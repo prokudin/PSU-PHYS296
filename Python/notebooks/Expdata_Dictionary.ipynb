{
 "cells": [
  {
   "cell_type": "markdown",
   "metadata": {},
   "source": [
    "Dictionary for experimental data\n",
    "\n",
    "NOTE:\n",
    "    - Expected: Working directy should be, \\PSU-PHYS296\\Python\\notebooks"
   ]
  },
  {
   "cell_type": "code",
   "execution_count": 1,
   "metadata": {
    "collapsed": true
   },
   "outputs": [],
   "source": [
    "import os\n",
    "from pandas import read_excel as read\n",
    "from pandas import DataFrame as df\n",
    "import matplotlib.pyplot as plt\n",
    "# enable plots in the notebook\n",
    "%matplotlib inline "
   ]
  },
  {
   "cell_type": "code",
   "execution_count": 2,
   "metadata": {},
   "outputs": [
    {
     "name": "stdout",
     "output_type": "stream",
     "text": [
      "Current working directory E:\\Laptop\\School\\Fa_17\\Phys296\\GIT\\PSU-PHYS296\\Python\\notebooks\n",
      "Moved Working directory back  E:\\Laptop\\School\\Fa_17\\Phys296\\GIT\\PSU-PHYS296\\Python\n"
     ]
    }
   ],
   "source": [
    "## Check current dir\n",
    "current = os.getcwd() # get current dir\n",
    "# Insert test for current = \\PSU-PHYS296\\Python\\notebooks\n",
    "print \"Current working directory %s\" % current # check current dir\n",
    "\n",
    "# Untested\n",
    "os.chdir('../') # move dir back one \n",
    "current = os.getcwd() # get current dir\n",
    "print \"Moved Working directory back  %s\" % current # check current dir"
   ]
  },
  {
   "cell_type": "code",
   "execution_count": 3,
   "metadata": {},
   "outputs": [
    {
     "name": "stdout",
     "output_type": "stream",
     "text": [
      "Working directory for data E:\\Laptop\\School\\Fa_17\\Phys296\\GIT\\PSU-PHYS296\\Python\\database\\sidis\\expdata\n"
     ]
    }
   ],
   "source": [
    "## Set working directory\n",
    "path = current+'\\\\database\\\\sidis\\\\expdata\\\\'\n",
    "os.chdir(path) # one dir back\n",
    "# Check \n",
    "newDir = os.getcwd() # get current dir\n",
    "print \"Working directory for data %s\" % newDir # check current dir"
   ]
  },
  {
   "cell_type": "code",
   "execution_count": 4,
   "metadata": {},
   "outputs": [
    {
     "name": "stdout",
     "output_type": "stream",
     "text": [
      "Data files retrieved ['1000.xlsx', '1001.xlsx', '1002.xlsx', '1003.xlsx', '1004.xlsx', '1005.xlsx', '1006.xlsx', '1007.xlsx', '2000.xlsx', '2001.xlsx', '2002.xlsx', '5001.xlsx', '5002.xlsx']\n"
     ]
    }
   ],
   "source": [
    "## Grabing files\n",
    "data=os.listdir('./') # list all files in dir\n",
    "data=[files for files in data if files.endswith('.xlsx') and not files.startswith('~')] # list of COMPASS data\n",
    "print \"Data files retrieved %s\" % data\n"
   ]
  },
  {
   "cell_type": "code",
   "execution_count": 16,
   "metadata": {},
   "outputs": [
    {
     "name": "stdout",
     "output_type": "stream",
     "text": [
      "key \n",
      "5002\n",
      " head\n",
      "   Ebeam      x    Q2      y    z        pT   pT2        obs   value  stat_u  \\\n",
      "0    160  0.157  20.0  0.439  0.2  0.300000  0.09  M_Compass  4.9485  0.2660   \n",
      "1    160  0.157  20.0  0.439  0.2  0.331662  0.11  M_Compass  4.4538  0.2661   \n",
      "2    160  0.157  20.0  0.439  0.2  0.360555  0.13  M_Compass  4.2050  0.2496   \n",
      "3    160  0.157  20.0  0.439  0.2  0.400000  0.16  M_Compass  3.6758  0.1926   \n",
      "4    160  0.157  20.0  0.439  0.2  0.424264  0.18  M_Compass  3.1909  0.1831   \n",
      "\n",
      "    sys_u    target hadron      col  \n",
      "0  0.1005  deuteron    pi-  compass  \n",
      "1  0.1040  deuteron    pi-  compass  \n",
      "2  0.1035  deuteron    pi-  compass  \n",
      "3  0.1033  deuteron    pi-  compass  \n",
      "4  0.1061  deuteron    pi-  compass  \n",
      "key \n",
      "5001\n",
      " head\n",
      "   Ebeam      x    Q2      y    z        pT   pT2        obs   value  stat_u  \\\n",
      "0    160  0.157  20.0  0.439  0.2  0.300000  0.09  M_Compass  6.2719  0.3126   \n",
      "1    160  0.157  20.0  0.439  0.2  0.331662  0.11  M_Compass  6.2175  0.3135   \n",
      "2    160  0.157  20.0  0.439  0.2  0.360555  0.13  M_Compass  5.0537  0.2711   \n",
      "3    160  0.157  20.0  0.439  0.2  0.400000  0.16  M_Compass  4.8854  0.2244   \n",
      "4    160  0.157  20.0  0.439  0.2  0.424264  0.18  M_Compass  4.1757  0.2275   \n",
      "\n",
      "    sys_u    target hadron      col  \n",
      "0  0.1051  deuteron    pi+  compass  \n",
      "1  0.1047  deuteron    pi+  compass  \n",
      "2  0.1070  deuteron    pi+  compass  \n",
      "3  0.1067  deuteron    pi+  compass  \n",
      "4  0.1101  deuteron    pi+  compass  \n",
      "key \n",
      "2002\n",
      " head\n",
      "   Elab      x     Q2      z         y     pT  obs     value    stat_u  sys_u  \\\n",
      "0   5.7  0.269  1.673  0.523  0.581615  0.062  ALL  0.267685  0.100788  0.026   \n",
      "1   5.7  0.265  1.663  0.518  0.586866  0.188  ALL  0.304473  0.055875  0.020   \n",
      "2   5.7  0.257  1.667  0.504  0.606589  0.312  ALL  0.266871  0.043016  0.020   \n",
      "3   5.7  0.252  1.658  0.499  0.615285  0.438  ALL  0.318157  0.042300  0.020   \n",
      "4   5.7  0.242  1.666  0.493  0.643801  0.562  ALL  0.267632  0.050999  0.022   \n",
      "\n",
      "   target hadron   col  \n",
      "0  proton    pi0  clas  \n",
      "1  proton    pi0  clas  \n",
      "2  proton    pi0  clas  \n",
      "3  proton    pi0  clas  \n",
      "4  proton    pi0  clas  \n",
      "key \n",
      "2000\n",
      " head\n",
      "   Elab      x     Q2      z         y     pT  obs     value    stat_u  sys_u  \\\n",
      "0   5.7  0.269  1.673  0.523  0.581615  0.062  ALL  0.413014  0.055930  0.026   \n",
      "1   5.7  0.265  1.663  0.518  0.586866  0.188  ALL  0.344024  0.030398  0.020   \n",
      "2   5.7  0.257  1.667  0.504  0.606589  0.312  ALL  0.340070  0.023082  0.020   \n",
      "3   5.7  0.252  1.658  0.499  0.615285  0.438  ALL  0.328193  0.022643  0.020   \n",
      "4   5.7  0.242  1.666  0.493  0.643801  0.562  ALL  0.349116  0.026458  0.022   \n",
      "\n",
      "   target hadron   col  \n",
      "0  proton    pi+  clas  \n",
      "1  proton    pi+  clas  \n",
      "2  proton    pi+  clas  \n",
      "3  proton    pi+  clas  \n",
      "4  proton    pi+  clas  \n",
      "key \n",
      "2001\n",
      " head\n",
      "   Elab      x     Q2      z         y     pT  obs     value    stat_u  sys_u  \\\n",
      "0   5.7  0.279  1.766  0.513  0.591942  0.062  ALL  0.312836  0.085781  0.026   \n",
      "1   5.7  0.273  1.758  0.509  0.602211  0.188  ALL  0.180225  0.046692  0.020   \n",
      "2   5.7  0.266  1.766  0.502  0.620871  0.312  ALL  0.203835  0.040858  0.020   \n",
      "3   5.7  0.256  1.747  0.498  0.638183  0.438  ALL  0.240405  0.036191  0.020   \n",
      "4   5.7  0.241  1.755  0.496  0.681008  0.562  ALL  0.258459  0.037458  0.022   \n",
      "\n",
      "   target hadron   col  \n",
      "0  proton    pi-  clas  \n",
      "1  proton    pi-  clas  \n",
      "2  proton    pi-  clas  \n",
      "3  proton    pi-  clas  \n",
      "4  proton    pi-  clas  \n",
      "key \n",
      "1007\n",
      " head\n",
      "   i  Ebeam         x         y         z        Q2        pT       obs  \\\n",
      "0  0   27.6  0.037525  0.643301  0.148981  1.250269  0.104192  M_Hermes   \n",
      "1  1   27.6  0.037525  0.643301  0.150414  1.250269  0.211203  M_Hermes   \n",
      "2  2   27.6  0.037525  0.643301  0.149641  1.250269  0.316589  M_Hermes   \n",
      "3  3   27.6  0.037525  0.643301  0.148027  1.250269  0.415451  M_Hermes   \n",
      "4  4   27.6  0.037525  0.643301  0.154227  1.250269  0.557743  M_Hermes   \n",
      "\n",
      "      value    stat_u  systrel  systabs_u    target hadron     col  \n",
      "0  0.322541  0.018731        0   0.026681  deuteron     k-  hermes  \n",
      "1  0.667686  0.023593        0   0.033163  deuteron     k-  hermes  \n",
      "2  0.766044  0.022712        0   0.037836  deuteron     k-  hermes  \n",
      "3  0.668402  0.024219        0   0.031938  deuteron     k-  hermes  \n",
      "4  0.423496  0.020548        0   0.018001  deuteron     k-  hermes  \n",
      "key \n",
      "1006\n",
      " head\n",
      "   i  Ebeam         x         y         z        Q2        pT       obs  \\\n",
      "0  0   27.6  0.037525  0.643301  0.150202  1.250269  0.101936  M_Hermes   \n",
      "1  1   27.6  0.037525  0.643301  0.152175  1.250269  0.215779  M_Hermes   \n",
      "2  2   27.6  0.037525  0.643301  0.152293  1.250269  0.322729  M_Hermes   \n",
      "3  3   27.6  0.037525  0.643301  0.155655  1.250269  0.437161  M_Hermes   \n",
      "4  4   27.6  0.037525  0.643301  0.159935  1.250269  0.574369  M_Hermes   \n",
      "\n",
      "      value    stat_u  systrel  systabs_u    target hadron     col  \n",
      "0  0.442412  0.022078        0   0.151783  deuteron     k+  hermes  \n",
      "1  0.909095  0.027781        0   0.409181  deuteron     k+  hermes  \n",
      "2  0.932164  0.027275        0   0.211354  deuteron     k+  hermes  \n",
      "3  0.821723  0.028288        0   0.133688  deuteron     k+  hermes  \n",
      "4  0.596362  0.024010        0   0.046937  deuteron     k+  hermes  \n",
      "key \n",
      "1005\n",
      " head\n",
      "   i  Ebeam         x         y         z        Q2        pT       obs  \\\n",
      "0  0   27.6  0.037525  0.643301  0.151998  1.250269  0.110723  M_Hermes   \n",
      "1  1   27.6  0.037525  0.643301  0.153840  1.250269  0.221679  M_Hermes   \n",
      "2  2   27.6  0.037525  0.643301  0.155264  1.250269  0.327004  M_Hermes   \n",
      "3  3   27.6  0.037525  0.643301  0.157966  1.250269  0.438400  M_Hermes   \n",
      "4  4   27.6  0.037525  0.643301  0.160085  1.250269  0.577428  M_Hermes   \n",
      "\n",
      "      value    stat_u  systrel  systabs_u    target hadron     col  \n",
      "0  3.889816  0.049109        0   0.527400  deuteron    pi-  hermes  \n",
      "1  7.748350  0.060947        0   0.496534  deuteron    pi-  hermes  \n",
      "2  8.614843  0.059564        0   0.833709  deuteron    pi-  hermes  \n",
      "3  7.040695  0.060037        0   0.884089  deuteron    pi-  hermes  \n",
      "4  4.358895  0.051047        0   0.543480  deuteron    pi-  hermes  \n",
      "key \n",
      "1004\n",
      " head\n",
      "   i  Ebeam         x         y         z        Q2        pT       obs  \\\n",
      "0  0   27.6  0.037525  0.643301  0.150910  1.250269  0.110411  M_Hermes   \n",
      "1  1   27.6  0.037525  0.643301  0.154828  1.250269  0.222663  M_Hermes   \n",
      "2  2   27.6  0.037525  0.643301  0.156460  1.250269  0.328746  M_Hermes   \n",
      "3  3   27.6  0.037525  0.643301  0.158990  1.250269  0.439723  M_Hermes   \n",
      "4  4   27.6  0.037525  0.643301  0.161577  1.250269  0.577812  M_Hermes   \n",
      "\n",
      "      value    stat_u  systrel  systabs_u    target hadron     col  \n",
      "0  3.958759  0.050165        0   0.498217  deuteron    pi+  hermes  \n",
      "1  8.119493  0.063373        0   0.531331  deuteron    pi+  hermes  \n",
      "2  9.023596  0.062174        0   0.411911  deuteron    pi+  hermes  \n",
      "3  7.179964  0.061045        0   0.261469  deuteron    pi+  hermes  \n",
      "4  4.522384  0.052025        0   0.326612  deuteron    pi+  hermes  \n",
      "key \n",
      "1003\n",
      " head\n",
      "   i  Ebeam         x         y         z        Q2        pT       obs  \\\n",
      "0  0   27.6  0.037588  0.641938  0.149255  1.249727  0.106794  M_Hermes   \n",
      "1  1   27.6  0.037588  0.641938  0.151167  1.249727  0.213508  M_Hermes   \n",
      "2  2   27.6  0.037588  0.641938  0.151824  1.249727  0.316819  M_Hermes   \n",
      "3  3   27.6  0.037588  0.641938  0.151976  1.249727  0.423750  M_Hermes   \n",
      "4  4   27.6  0.037588  0.641938  0.152683  1.249727  0.554697  M_Hermes   \n",
      "\n",
      "      value    stat_u  systrel  systabs_u  target hadron     col  \n",
      "0  0.305143  0.021318        0   0.029443  proton     k-  hermes  \n",
      "1  0.621250  0.026767        0   0.031971  proton     k-  hermes  \n",
      "2  0.755610  0.025972        0   0.038758  proton     k-  hermes  \n",
      "3  0.675184  0.026749        0   0.029867  proton     k-  hermes  \n",
      "4  0.485511  0.023974        0   0.020123  proton     k-  hermes  \n",
      "key \n",
      "1002\n",
      " head\n",
      "   i  Ebeam         x         y         z        Q2        pT       obs  \\\n",
      "0  0   27.6  0.037588  0.641938  0.151782  1.249727  0.104504  M_Hermes   \n",
      "1  1   27.6  0.037588  0.641938  0.151098  1.249727  0.213093  M_Hermes   \n",
      "2  2   27.6  0.037588  0.641938  0.155541  1.249727  0.325774  M_Hermes   \n",
      "3  3   27.6  0.037588  0.641938  0.154874  1.249727  0.436134  M_Hermes   \n",
      "4  4   27.6  0.037588  0.641938  0.159326  1.249727  0.577714  M_Hermes   \n",
      "\n",
      "      value    stat_u  systrel  systabs_u  target hadron     col  \n",
      "0  0.460595  0.025005        0   0.202601  proton     k+  hermes  \n",
      "1  0.925017  0.031538        0   0.215539  proton     k+  hermes  \n",
      "2  1.001128  0.030689        0   0.068140  proton     k+  hermes  \n",
      "3  0.864440  0.031351        0   0.180275  proton     k+  hermes  \n",
      "4  0.608743  0.027434        0   0.220413  proton     k+  hermes  \n",
      "key \n",
      "1001\n",
      " head\n",
      "   i  Ebeam         x         y         z        Q2        pT       obs  \\\n",
      "0  0   27.6  0.037588  0.641938  0.152031  1.249727  0.109679  M_Hermes   \n",
      "1  1   27.6  0.037588  0.641938  0.154621  1.249727  0.222693  M_Hermes   \n",
      "2  2   27.6  0.037588  0.641938  0.156215  1.249727  0.329503  M_Hermes   \n",
      "3  3   27.6  0.037588  0.641938  0.159591  1.249727  0.442003  M_Hermes   \n",
      "4  4   27.6  0.037588  0.641938  0.162737  1.249727  0.585996  M_Hermes   \n",
      "\n",
      "      value    stat_u  systole  systabs_u  target hadron     col  \n",
      "0  3.786258  0.054781        0   0.964395  proton    pi-  hermes  \n",
      "1  7.871387  0.070337        0   0.785313  proton    pi-  hermes  \n",
      "2  8.698135  0.067931        0   0.220046  proton    pi-  hermes  \n",
      "3  6.991761  0.067629        0   0.709916  proton    pi-  hermes  \n",
      "4  4.099734  0.056061        0   0.656737  proton    pi-  hermes  \n",
      "key \n",
      "1000\n",
      " head\n",
      "   i  Ebeam         x         y         z        Q2        pT       obs  \\\n",
      "0  0   27.6  0.037588  0.641938  0.152202  1.249727  0.110571  M_Hermes   \n",
      "1  1   27.6  0.037588  0.641938  0.154622  1.249727  0.221793  M_Hermes   \n",
      "2  2   27.6  0.037588  0.641938  0.156095  1.249727  0.327693  M_Hermes   \n",
      "3  3   27.6  0.037588  0.641938  0.159801  1.249727  0.440991  M_Hermes   \n",
      "4  4   27.6  0.037588  0.641938  0.162489  1.249727  0.581764  M_Hermes   \n",
      "\n",
      "      value    stat_u  systrel  systabs_u  target hadron     col  \n",
      "0  4.398481  0.057592        0   0.350294  proton    pi+  hermes  \n",
      "1  8.759948  0.071953        0   0.314397  proton    pi+  hermes  \n",
      "2  9.660459  0.070699        0   0.589268  proton    pi+  hermes  \n",
      "3  7.843414  0.070982        0   0.582032  proton    pi+  hermes  \n",
      "4  4.778433  0.059171        0   0.319916  proton    pi+  hermes  \n"
     ]
    }
   ],
   "source": [
    "## Reading expdata data\n",
    "# dictionary of pandas dataframes for each expdata\n",
    "expdata={} # initialise dictionary\n",
    "file=[os.path.splitext(each)[0] for each in data] # remove the .xlxs extenstion for key names\n",
    "count=0 # start counter\n",
    "for i in data: # for each element i in the data\n",
    "    expdata[file[count]]=df(read(i)) # make a key for each element name and read the data set as the value\n",
    "    count+=1 # add one to counter\n",
    "\n",
    "# Check contents of dictionary\n",
    "for key in expdata.keys():\n",
    "    print \"key \\n%s\\n head\\n%s\" %(key,expdata[key].head())\n"
   ]
  },
  {
   "cell_type": "code",
   "execution_count": 10,
   "metadata": {
    "collapsed": true
   },
   "outputs": [],
   "source": [
    "## Ploting pT as a function of ALL\n",
    "\n",
    "def plotALL(key):\n",
    "    x=expdata[key]\n",
    "    delta = (x.stat_u**2.0+x.sys_u**2.0)**(1/2.0)\n",
    "    plt.errorbar(x.pT,x.value,delta,\n",
    "                 fmt='o',mfc='green',\n",
    "                 ecolor='green',capsize=5)\n",
    "    plt.title(\"Data %s\" % key) \n",
    "    plt.xlabel(\"pT\")\n",
    "    plt.ylabel(\"ALL\")\n",
    "    \n"
   ]
  },
  {
   "cell_type": "code",
   "execution_count": 11,
   "metadata": {},
   "outputs": [
    {
     "data": {
      "image/png": "[encoded data removed]",
      "text/plain": [
       "<matplotlib.figure.Figure at 0x96710f0>"
      ]
     },
     "metadata": {},
     "output_type": "display_data"
    }
   ],
   "source": [
    "plotALL('2001')"
   ]
  }
 ],
 "metadata": {
  "kernelspec": {
   "display_name": "Python 2",
   "language": "python",
   "name": "python2"
  },
  "language_info": {
   "codemirror_mode": {
    "name": "ipython",
    "version": 2
   },
   "file_extension": ".py",
   "mimetype": "text/x-python",
   "name": "python",
   "nbconvert_exporter": "python",
   "pygments_lexer": "ipython2",
   "version": "2.7.13"
  }
 },
 "nbformat": 4,
 "nbformat_minor": 2
}
