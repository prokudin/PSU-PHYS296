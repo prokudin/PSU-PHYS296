{
 "cells": [
  {
   "cell_type": "markdown",
   "metadata": {},
   "source": [
    "Analysis of COMPASS and CLAS Data\n",
    "\n",
    "NOTE:\n",
    "    - Expected: Working directy should be, \\PSU-PHYS296\\Python\\notebooks"
   ]
  },
  {
   "cell_type": "code",
   "execution_count": 45,
   "metadata": {},
   "outputs": [],
   "source": [
    "import os\n",
    "from pandas import read_excel as read\n",
    "from pandas import DataFrame as df\n",
    "import matplotlib.pyplot as plt\n",
    "# enable plots in the notebook\n",
    "%matplotlib inline "
   ]
  },
  {
   "cell_type": "code",
   "execution_count": 2,
   "metadata": {},
   "outputs": [
    {
     "name": "stdout",
     "output_type": "stream",
     "text": [
      "Current working directory E:\\Laptop\\School\\Fa_17\\Phys296\\GIT\\PSU-PHYS296\\Python\\notebooks\n",
      "Moved Working directory back  E:\\Laptop\\School\\Fa_17\\Phys296\\GIT\\PSU-PHYS296\\Python\n"
     ]
    }
   ],
   "source": [
    "## Check current dir\n",
    "current = os.getcwd() # get current dir\n",
    "# Insert test for current = \\PSU-PHYS296\\Python\\notebooks\n",
    "print \"Current working directory %s\" % current # check current dir\n",
    "\n",
    "# Untested\n",
    "os.chdir('../') # move dir back one \n",
    "current = os.getcwd() # get current dir\n",
    "print \"Moved Working directory back  %s\" % current # check current dir"
   ]
  },
  {
   "cell_type": "code",
   "execution_count": 3,
   "metadata": {},
   "outputs": [
    {
     "name": "stdout",
     "output_type": "stream",
     "text": [
      "Working directory for data E:\\Laptop\\School\\Fa_17\\Phys296\\GIT\\PSU-PHYS296\\Python\\database\\sidis\\expdata\n"
     ]
    }
   ],
   "source": [
    "## Set working directory\n",
    "path = current+'\\\\database\\\\sidis\\\\expdata\\\\'\n",
    "os.chdir(path) # one dir back\n",
    "# Check \n",
    "newDir = os.getcwd() # get current dir\n",
    "print \"Working directory for data %s\" % newDir # check current dir"
   ]
  },
  {
   "cell_type": "code",
   "execution_count": 4,
   "metadata": {},
   "outputs": [
    {
     "name": "stdout",
     "output_type": "stream",
     "text": [
      "Compas data files retrieved ['1000.xlsx', '1001.xlsx', '1002.xlsx', '1003.xlsx', '1004.xlsx', '1005.xlsx', '1006.xlsx', '1007.xlsx', '2000.xlsx', '2001.xlsx', '2002.xlsx', '5001.xlsx', '5002.xlsx']\n"
     ]
    }
   ],
   "source": [
    "## Grabing files\n",
    "data=os.listdir('./') # list all files in dir\n",
    "data=[files for files in data if files.endswith('.xlsx') and not files.startswith('~')] # list of COMPASS data\n",
    "print \"Data files retrieved %s\" % data\n"
   ]
  },
  {
   "cell_type": "code",
   "execution_count": 5,
   "metadata": {},
   "outputs": [
    {
     "name": "stdout",
     "output_type": "stream",
     "text": [
      "List of keys in the COMPASS dictionary ['2000.xlsx', '2001.xlsx', '1005.xlsx', '1002.xlsx', '1004.xlsx', '1001.xlsx', '5001.xlsx', '2002.xlsx', '1006.xlsx', '1007.xlsx', '5002.xlsx', '1003.xlsx', '1000.xlsx']\n"
     ]
    }
   ],
   "source": [
    "## Reading COMPASS data\n",
    "COMPASS={} # initialise dictionary\n",
    "for i in data: # for each element i in the data\n",
    "    COMPASS[i]=read(i) # make a key for each element name and read the data set as the value\n",
    "print \"List of keys in the COMPASS dictionary %s\" % COMPASS.keys() # Check a list of keys\n",
    "\n",
    "# Insert a check for the headder names of each value in the dictionary\n"
   ]
  },
  {
   "cell_type": "code",
   "execution_count": 85,
   "metadata": {
    "collapsed": true
   },
   "outputs": [],
   "source": [
    "## Ploting pT as a function of ALL\n",
    "\n",
    "def plot(key):\n",
    "    x=COMPASS[key]\n",
    "    delta = (x.stat_u**2.0+x.sys_u**2.0)**(1/2.0)\n",
    "    plt.errorbar(x.pT,x.value,delta,\n",
    "                 fmt='o',mfc='green',\n",
    "                 ecolor='green',capsize=5)\n",
    "    plt.title(\"Data %s\" % key) \n",
    "    plt.xlabel(\"pT\")\n",
    "    plt.ylabel(\"ALL\")\n",
    "    \n"
   ]
  },
  {
   "cell_type": "code",
   "execution_count": 87,
   "metadata": {},
   "outputs": [
    {
     "data": {
      "image/png": "[encoded data removed]",
      "text/plain": [
       "<matplotlib.figure.Figure at 0xbe43748>"
      ]
     },
     "metadata": {},
     "output_type": "display_data"
    }
   ],
   "source": [
    "plot('5001.xlsx')"
   ]
  },
  {
   "cell_type": "code",
   "execution_count": 84,
   "metadata": {},
   "outputs": [
    {
     "ename": "ValueError",
     "evalue": "The truth value of a Series is ambiguous. Use a.empty, a.bool(), a.item(), a.any() or a.all().",
     "output_type": "error",
     "traceback": [
      "\u001b[1;31m---------------------------------------------------------------------------\u001b[0m",
      "\u001b[1;31mValueError\u001b[0m                                Traceback (most recent call last)",
      "\u001b[1;32m<ipython-input-84-348d7e3a3782>\u001b[0m in \u001b[0;36m<module>\u001b[1;34m()\u001b[0m\n\u001b[1;32m----> 1\u001b[1;33m \u001b[0mplot\u001b[0m\u001b[1;33m(\u001b[0m\u001b[1;34m'2001.xlsx'\u001b[0m\u001b[1;33m)\u001b[0m\u001b[1;33m\u001b[0m\u001b[0m\n\u001b[0m",
      "\u001b[1;32m<ipython-input-83-adfa5a6b25fb>\u001b[0m in \u001b[0;36mplot\u001b[1;34m(key)\u001b[0m\n\u001b[0;32m      3\u001b[0m \u001b[1;32mdef\u001b[0m \u001b[0mplot\u001b[0m\u001b[1;33m(\u001b[0m\u001b[0mkey\u001b[0m\u001b[1;33m)\u001b[0m\u001b[1;33m:\u001b[0m\u001b[1;33m\u001b[0m\u001b[0m\n\u001b[0;32m      4\u001b[0m     \u001b[0mx\u001b[0m\u001b[1;33m=\u001b[0m\u001b[0mCOMPASS\u001b[0m\u001b[1;33m[\u001b[0m\u001b[0mkey\u001b[0m\u001b[1;33m]\u001b[0m\u001b[1;33m\u001b[0m\u001b[0m\n\u001b[1;32m----> 5\u001b[1;33m     \u001b[1;32mif\u001b[0m \u001b[0mx\u001b[0m\u001b[1;33m.\u001b[0m\u001b[0mcol\u001b[0m\u001b[1;33m==\u001b[0m\u001b[1;34m'compass'\u001b[0m\u001b[1;33m:\u001b[0m\u001b[1;33m\u001b[0m\u001b[0m\n\u001b[0m\u001b[0;32m      6\u001b[0m         \u001b[1;31m#insirt proper graphic analysis\u001b[0m\u001b[1;33m\u001b[0m\u001b[1;33m\u001b[0m\u001b[0m\n\u001b[0;32m      7\u001b[0m         \u001b[1;32mprint\u001b[0m \u001b[1;34m\"plots have not been made for COMPASS data\"\u001b[0m\u001b[1;33m\u001b[0m\u001b[0m\n",
      "\u001b[1;32mC:\\Users\\Aardvark\\Anaconda2\\lib\\site-packages\\pandas\\core\\generic.pyc\u001b[0m in \u001b[0;36m__nonzero__\u001b[1;34m(self)\u001b[0m\n\u001b[0;32m    953\u001b[0m         raise ValueError(\"The truth value of a {0} is ambiguous. \"\n\u001b[0;32m    954\u001b[0m                          \u001b[1;34m\"Use a.empty, a.bool(), a.item(), a.any() or a.all().\"\u001b[0m\u001b[1;33m\u001b[0m\u001b[0m\n\u001b[1;32m--> 955\u001b[1;33m                          .format(self.__class__.__name__))\n\u001b[0m\u001b[0;32m    956\u001b[0m \u001b[1;33m\u001b[0m\u001b[0m\n\u001b[0;32m    957\u001b[0m     \u001b[0m__bool__\u001b[0m \u001b[1;33m=\u001b[0m \u001b[0m__nonzero__\u001b[0m\u001b[1;33m\u001b[0m\u001b[0m\n",
      "\u001b[1;31mValueError\u001b[0m: The truth value of a Series is ambiguous. Use a.empty, a.bool(), a.item(), a.any() or a.all()."
     ]
    }
   ],
   "source": [
    "# Atemp at dynaic ploting but format unknown\n",
    "def plot(key):\n",
    "    dat=COMPASS[key]\n",
    "    if dat.col=='compass':\n",
    "        xCat=dat.x.unique() #list of x catagories\n",
    "        Q2Cat=dat.Q2.unique() #list of Q2 catagories\n",
    "        zCat=dat.z.unique() #list of z catagories\n",
    "        x_n,Q_n=len(xCat),len(Q2Cat) #git length of x and Q2 catagories\n",
    "        \n",
    "\n",
    "        \n",
    "        \n",
    "        for x in xCat:\n",
    "            for Q in Q2Cat:\n",
    "                if dat.x==xCat(0) and dat.Q2==Q2Cat(0):\n",
    "                    delta = (x.stat_u**2.0+x.sys_u**2.0)**(1/2.0)\n",
    "                    plt.errorbar(x.pT,x.value,delta,\n",
    "                    fmt='o',mfc='green',\n",
    "                    ecolor='green',capsize=5)\n",
    "                    plt.title(\"Data %s\" % key) \n",
    "                    plt.xlabel(\"pT\")\n",
    "                    plt.ylabel(\"ALL\")\n",
    "                    nrows,ncols=3,4\n",
    "                    py.figure(figsize=(ncols*3,nrows*2))\n",
    "        \n",
    "        #insirt proper graphic analysis\n",
    "        print \"plots have not been made for COMPASS data\"\n",
    "        delta = (x.stat_u**2.0+x.sys_u**2.0)**(1/2.0)\n",
    "        plt.errorbar(x.pT,x.value,delta,\n",
    "                     fmt='o',mfc='green',\n",
    "                     ecolor='green',capsize=5)\n",
    "        plt.title(\"Data %s\" % key) \n",
    "        plt.xlabel(\"pT\")\n",
    "        plt.ylabel(\"ALL\")\n",
    "    \n",
    "    elif x.col=='clas':\n",
    "        delta = (x.stat_u**2.0+x.sys_u**2.0)**(1/2.0)\n",
    "        plt.errorbar(x.pT,x.value,delta,\n",
    "                 fmt='o',mfc='green',\n",
    "                 ecolor='green',capsize=5)\n",
    "        plt.title(\"Data %s\" % key) \n",
    "        plt.xlabel(\"pT\")\n",
    "        plt.ylabel(\"ALL\")\n",
    "    \n",
    "    else: \n",
    "        print \"unknown ploting format\" "
   ]
  },
  {
   "cell_type": "code",
   "execution_count": 78,
   "metadata": {},
   "outputs": [
    {
     "name": "stdout",
     "output_type": "stream",
     "text": [
      "   Elab      x     Q2      z         y     pT  obs     value    stat_u  sys_u  \\\n",
      "0   5.7  0.279  1.766  0.513  0.591942  0.062  ALL  0.312836  0.085781  0.026   \n",
      "1   5.7  0.273  1.758  0.509  0.602211  0.188  ALL  0.180225  0.046692  0.020   \n",
      "2   5.7  0.266  1.766  0.502  0.620871  0.312  ALL  0.203835  0.040858  0.020   \n",
      "3   5.7  0.256  1.747  0.498  0.638183  0.438  ALL  0.240405  0.036191  0.020   \n",
      "4   5.7  0.241  1.755  0.496  0.681008  0.562  ALL  0.258459  0.037458  0.022   \n",
      "5   5.7  0.220  1.685  0.493  0.716258  0.688  ALL  0.238249  0.049334  0.025   \n",
      "6   5.7  0.206  1.752  0.494  0.795352  0.812  ALL  0.052813  0.071505  0.033   \n",
      "7   5.7  0.175  1.559  0.506  0.833106  0.938  ALL -0.002015  0.124242  0.044   \n",
      "\n",
      "   target hadron   col  \n",
      "0  proton    pi-  clas  \n",
      "1  proton    pi-  clas  \n",
      "2  proton    pi-  clas  \n",
      "3  proton    pi-  clas  \n",
      "4  proton    pi-  clas  \n",
      "5  proton    pi-  clas  \n",
      "6  proton    pi-  clas  \n",
      "7  proton    pi-  clas  \n"
     ]
    }
   ],
   "source": [
    "print COMPASS['2001.xlsx']"
   ]
  },
  {
   "cell_type": "code",
   "execution_count": 28,
   "metadata": {},
   "outputs": [
    {
     "name": "stdout",
     "output_type": "stream",
     "text": [
      "   Ebeam      x    Q2      y    z        pT   pT2        obs   value  stat_u  \\\n",
      "0    160  0.157  20.0  0.439  0.2  0.300000  0.09  M_Compass  4.9485  0.2660   \n",
      "1    160  0.157  20.0  0.439  0.2  0.331662  0.11  M_Compass  4.4538  0.2661   \n",
      "2    160  0.157  20.0  0.439  0.2  0.360555  0.13  M_Compass  4.2050  0.2496   \n",
      "3    160  0.157  20.0  0.439  0.2  0.400000  0.16  M_Compass  3.6758  0.1926   \n",
      "4    160  0.157  20.0  0.439  0.2  0.424264  0.18  M_Compass  3.1909  0.1831   \n",
      "\n",
      "    sys_u    target hadron      col  \n",
      "0  0.1005  deuteron    pi-  compass  \n",
      "1  0.1040  deuteron    pi-  compass  \n",
      "2  0.1035  deuteron    pi-  compass  \n",
      "3  0.1033  deuteron    pi-  compass  \n",
      "4  0.1061  deuteron    pi-  compass  \n"
     ]
    }
   ],
   "source": [
    "print COMPASS['5002.xlsx'].head()"
   ]
  },
  {
   "cell_type": "code",
   "execution_count": 32,
   "metadata": {},
   "outputs": [
    {
     "name": "stdout",
     "output_type": "stream",
     "text": [
      "22 17\n",
      "x catagorys [ 0.157   0.2909  0.0455  0.0771  0.1488  0.017   0.026   0.0427  0.0752\n",
      "  0.0074  0.0106  0.0161  0.0254  0.0423  0.0062  0.0102  0.0162  0.0255\n",
      "  0.2544  0.1326  0.0678  0.0389]\n",
      "Q2 catagorys [ 20.   22.1   8.3   9.3   9.8   3.5   4.1   4.5   4.6   1.8   2.1   2.3\n",
      "   1.3  11.    5.3   2.5   1.4]\n",
      "z catagorys [ 0.2  0.3  0.4  0.6]\n"
     ]
    }
   ],
   "source": [
    "xCat=COMPASS['5002.xlsx'].x.unique() #list of x catagories\n",
    "Q2Cat=COMPASS['5002.xlsx'].Q2.unique() #list of Q2 catagories\n",
    "zCat=COMPASS['5002.xlsx'].z.unique() #list of Q2 catagories\n",
    "x_n,Q_n=len(xCat),len(Q2Cat)\n",
    "#x_n=len(xCat)\n",
    "#Q_n=size(Q2Cat)\n",
    "\n",
    "print(\"%s %s\" %(x_n,Q_n))\n",
    "print (\"x catagorys %s\" %xCat)\n",
    "print (\"Q2 catagorys %s\" %Q2Cat)\n",
    "print (\"z catagorys %s\" %zCat)"
   ]
  },
  {
   "cell_type": "code",
   "execution_count": 42,
   "metadata": {},
   "outputs": [
    {
     "ename": "AttributeError",
     "evalue": "'Series' object has no attribute 'items'",
     "output_type": "error",
     "traceback": [
      "\u001b[1;31m---------------------------------------------------------------------------\u001b[0m",
      "\u001b[1;31mAttributeError\u001b[0m                            Traceback (most recent call last)",
      "\u001b[1;32m<ipython-input-42-fb87fd5a7e0a>\u001b[0m in \u001b[0;36m<module>\u001b[1;34m()\u001b[0m\n\u001b[0;32m      5\u001b[0m \u001b[1;32mfrom\u001b[0m \u001b[0moperator\u001b[0m \u001b[1;32mimport\u001b[0m \u001b[0mitemgetter\u001b[0m\u001b[1;33m\u001b[0m\u001b[0m\n\u001b[0;32m      6\u001b[0m \u001b[1;33m\u001b[0m\u001b[0m\n\u001b[1;32m----> 7\u001b[1;33m \u001b[1;32mfor\u001b[0m \u001b[0mk\u001b[0m\u001b[1;33m,\u001b[0m\u001b[0mv\u001b[0m \u001b[1;32min\u001b[0m \u001b[0mgroupby\u001b[0m\u001b[1;33m(\u001b[0m\u001b[0msorted\u001b[0m\u001b[1;33m(\u001b[0m\u001b[0mCOMPASS\u001b[0m\u001b[1;33m[\u001b[0m\u001b[1;34m'5002.xlsx'\u001b[0m\u001b[1;33m]\u001b[0m\u001b[1;33m.\u001b[0m\u001b[0mx\u001b[0m\u001b[1;33m.\u001b[0m\u001b[0mitems\u001b[0m\u001b[1;33m(\u001b[0m\u001b[1;33m)\u001b[0m\u001b[1;33m)\u001b[0m\u001b[1;33m,\u001b[0m\u001b[0mkey\u001b[0m\u001b[1;33m=\u001b[0m\u001b[0mitemgetter\u001b[0m\u001b[1;33m(\u001b[0m\u001b[1;36m0\u001b[0m\u001b[1;33m)\u001b[0m\u001b[1;33m)\u001b[0m\u001b[1;33m:\u001b[0m\u001b[1;33m\u001b[0m\u001b[0m\n\u001b[0m\u001b[0;32m      8\u001b[0m     \u001b[1;32mprint\u001b[0m \u001b[0mk\u001b[0m\u001b[1;33m,\u001b[0m\u001b[0mlist\u001b[0m\u001b[1;33m(\u001b[0m\u001b[0mv\u001b[0m\u001b[1;33m)\u001b[0m\u001b[1;33m\u001b[0m\u001b[0m\n",
      "\u001b[1;32mC:\\Users\\Aardvark\\Anaconda2\\lib\\site-packages\\pandas\\core\\generic.pyc\u001b[0m in \u001b[0;36m__getattr__\u001b[1;34m(self, name)\u001b[0m\n\u001b[0;32m   3075\u001b[0m         if (name in self._internal_names_set or name in self._metadata or\n\u001b[0;32m   3076\u001b[0m                 name in self._accessors):\n\u001b[1;32m-> 3077\u001b[1;33m             \u001b[1;32mreturn\u001b[0m \u001b[0mobject\u001b[0m\u001b[1;33m.\u001b[0m\u001b[0m__getattribute__\u001b[0m\u001b[1;33m(\u001b[0m\u001b[0mself\u001b[0m\u001b[1;33m,\u001b[0m \u001b[0mname\u001b[0m\u001b[1;33m)\u001b[0m\u001b[1;33m\u001b[0m\u001b[0m\n\u001b[0m\u001b[0;32m   3078\u001b[0m         \u001b[1;32melse\u001b[0m\u001b[1;33m:\u001b[0m\u001b[1;33m\u001b[0m\u001b[0m\n\u001b[0;32m   3079\u001b[0m             \u001b[1;32mif\u001b[0m \u001b[0mname\u001b[0m \u001b[1;32min\u001b[0m \u001b[0mself\u001b[0m\u001b[1;33m.\u001b[0m\u001b[0m_info_axis\u001b[0m\u001b[1;33m:\u001b[0m\u001b[1;33m\u001b[0m\u001b[0m\n",
      "\u001b[1;31mAttributeError\u001b[0m: 'Series' object has no attribute 'items'"
     ]
    }
   ],
   "source": [
    "#int_xGivenQ2=[in]\n",
    "#print COMPASS['5002.xlsx'].x.index(\"0.157\")\n",
    "\n"
   ]
  }
 ],
 "metadata": {
  "kernelspec": {
   "display_name": "Python 2",
   "language": "python",
   "name": "python2"
  },
  "language_info": {
   "codemirror_mode": {
    "name": "ipython",
    "version": 2
   },
   "file_extension": ".py",
   "mimetype": "text/x-python",
   "name": "python",
   "nbconvert_exporter": "python",
   "pygments_lexer": "ipython2",
   "version": "2.7.13"
  }
 },
 "nbformat": 4,
 "nbformat_minor": 2
}
