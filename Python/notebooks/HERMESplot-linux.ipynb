{
 "cells": [
  {
   "cell_type": "code",
   "execution_count": 2,
   "metadata": {
    "collapsed": true
   },
   "outputs": [],
   "source": [
    "import sys\n",
    "import os;\n",
    "import itertools as it\n",
    "import numpy as np\n",
    "import pandas as pd\n",
    "import pylab as py\n",
    "from  matplotlib import rc\n",
    "from matplotlib.colors import LogNorm\n",
    "%matplotlib inline\n",
    "from tools.tools import save,load,lprint,load_config\n",
    "from tools.bar import BAR\n",
    "from fitlab.resman import RESMAN\n",
    "from fitlab.parman import PARMAN\n",
    "rc('font',**{'family':'sans-serif','sans-serif':['Helvetica']})\n",
    "rc('text',usetex=True)\n",
    "from pandas import read_excel as read\n",
    "from pandas import DataFrame as df\n",
    "import matplotlib.pyplot as plt\n",
    "import matplotlib.gridspec as gridspec\n",
    "import matplotlib.patches as mpatches\n",
    "import string\n",
    "# enable plots in the notebook\n",
    "%matplotlib inline "
   ]
  },
  {
   "cell_type": "code",
   "execution_count": 3,
   "metadata": {
    "collapsed": false
   },
   "outputs": [
    {
     "name": "stdout",
     "output_type": "stream",
     "text": [
      "loading sidis data sets 1007"
     ]
    }
   ],
   "source": [
    "conf=load_config('../fitlab/inputs/upol_hermes.py')\n",
    "conf['resman']=RESMAN(conf)\n",
    "conf['resman'].get_residuals(conf['parman'].par);"
   ]
  },
  {
   "cell_type": "markdown",
   "metadata": {
    "collapsed": true
   },
   "source": [
    "Data vs Theory"
   ]
  },
  {
   "cell_type": "code",
   "execution_count": 4,
   "metadata": {
    "collapsed": false
   },
   "outputs": [
    {
     "data": {
      "text/plain": [
       "Index([      u'Ebeam',           u'N',          u'Q2',       u'Shift',\n",
       "             u'alpha',         u'col',      u'hadron',           u'i',\n",
       "               u'obs',          u'pT', u'r-residuals',   u'residuals',\n",
       "             u'shift',      u'stat_u',   u'systabs_u',     u'systole',\n",
       "           u'systrel',      u'target',         u'thy',       u'value',\n",
       "                 u'x',           u'y',           u'z'],\n",
       "      dtype='object')"
      ]
     },
     "execution_count": 4,
     "metadata": {},
     "output_type": "execute_result"
    }
   ],
   "source": [
    "UPOL=pd.concat([pd.DataFrame(conf['resman'].sidisres.tabs[idx]) \\\n",
    "              for idx in conf['resman'].sidisres.tabs.keys()])\n",
    "\n",
    "UPOL.columns"
   ]
  },
  {
   "cell_type": "code",
   "execution_count": 5,
   "metadata": {
    "collapsed": false
   },
   "outputs": [
    {
     "name": "stdout",
     "output_type": "stream",
     "text": [
      "Data files retrieved ['1000.xlsx', '1001.xlsx', '1002.xlsx', '1003.xlsx', '1004.xlsx', '1005.xlsx', '1006.xlsx', '1007.xlsx', '2000.xlsx', '2001.xlsx', '2002.xlsx', '2003.xlsx', '2004.xlsx', '5001.xlsx', '5002.xlsx']\n"
     ]
    }
   ],
   "source": [
    "\n",
    "## Grabing list of files\n",
    "data=os.listdir('../database/sidis/expdata/') # list all files in dir\n",
    "data=[files for files in data if files.endswith('.xlsx') and not files.startswith('~')] # list of COMPASS data\n",
    "print \"Data files retrieved %s\" % data"
   ]
  },
  {
   "cell_type": "code",
   "execution_count": 13,
   "metadata": {
    "collapsed": false
   },
   "outputs": [],
   "source": [
    "## Reading and resructuring data\n",
    "\n",
    "data1000whole = df(read('../database/sidis/expdata/'+data[1]))\n",
    "\n",
    "# Calculate mesurment error\n",
    "data1000whole[\"delta\"] = np.sqrt(data1000whole[\"stat_u\"]**2.0+data1000whole[\"systabs_u\"]**2.0)\n",
    "data1000whole[\"qT\"] = data1000whole[\"pT\"]/data1000whole[\"z\"]\n",
    "data1000whole[\"qT2\"] = data1000whole[\"qT\"]**2\n",
    "\n",
    "\n",
    "##Binning data Tick marks for overall 9x9 matrix\n",
    "xBin=np.array([0.023,0.04,0.055,0.075,0.1,0.14,0.2,0.3,0.4,0.6]) \n",
    "Q2Bin=np.array([1.0, 1.25, 1.5, 1.75, 2.0, 2.25, 2.5, 3.0, 5.0, 15.0])\n",
    "zBin= np.array([0.1, 0.2, 0.3, 0.4, 0.6, 0.8, 1.1])\n",
    "\n",
    " "
   ]
  },
  {
   "cell_type": "code",
   "execution_count": 8,
   "metadata": {
    "collapsed": false
   },
   "outputs": [
    {
     "name": "stdout",
     "output_type": "stream",
     "text": [
      "   Ebeam    N        Q2  Shift     alpha     col hadron    i       obs  \\\n",
      "0   27.6  1.0  1.820673    0.0  0.076435  hermes    pi+  119  M_Hermes   \n",
      "1   27.6  1.0  1.820673    0.0  0.053237  hermes    pi+  126  M_Hermes   \n",
      "2   27.6  1.0  1.820673    0.0  0.061018  hermes    pi+  133  M_Hermes   \n",
      "3   27.6  1.0  1.820673    0.0  0.056770  hermes    pi+  134  M_Hermes   \n",
      "4   27.6  1.0  1.820673    0.0  0.044043  hermes    pi+  140  M_Hermes   \n",
      "\n",
      "         pT    ...            x        y         z     delta        qT  \\\n",
      "0  0.101538    ...     0.095738  0.36718  0.223790  0.076435  0.453719   \n",
      "1  0.101851    ...     0.095738  0.36718  0.274631  0.053237  0.370866   \n",
      "2  0.100382    ...     0.095738  0.36718  0.334259  0.061018  0.300313   \n",
      "3  0.203484    ...     0.095738  0.36718  0.334318  0.056770  0.608654   \n",
      "4  0.100453    ...     0.095738  0.36718  0.419518  0.044043  0.239449   \n",
      "\n",
      "        qT2  xClas          xBin  Q2Clas     Q2Bin  \n",
      "0  0.205861      f  (0.055, 0.1]       B  (1.7, 3]  \n",
      "1  0.137541      f  (0.055, 0.1]       B  (1.7, 3]  \n",
      "2  0.090188      f  (0.055, 0.1]       B  (1.7, 3]  \n",
      "3  0.370460      f  (0.055, 0.1]       B  (1.7, 3]  \n",
      "4  0.057336      f  (0.055, 0.1]       B  (1.7, 3]  \n",
      "\n",
      "[5 rows x 30 columns]\n"
     ]
    }
   ],
   "source": [
    "## Reading and resructuring data for COMPASS\n",
    "\n",
    "data1000 = UPOL.query('hadron==\"pi+\"')\n",
    "\n",
    "# Calculate measurment error\n",
    "data1000[\"delta\"] = np.sqrt((data1000[\"stat_u\"]**2.0+data1000[\"systabs_u\"]**2.0))\n",
    "data1000[\"qT\"] = data1000[\"pT\"]/data1000[\"z\"]\n",
    "data1000[\"qT2\"] = data1000[\"qT\"]**2\n",
    "\n",
    "\n",
    "\n",
    "##Binning data\n",
    "xBin=[0.003,0.008,0.013,0.02,0.032,0.055,0.1,0.21,0.4]\n",
    "Q2Bin=[1,1.7,3,7,16,81]\n",
    "\n",
    "data1000['xClas'] = pd.cut(data1000['x'], xBin, labels=map(chr, range(97, 97+len(xBin)-1)))\n",
    "data1000['xBin'] = pd.cut(data1000['x'], xBin)\n",
    "\n",
    "data1000['Q2Clas'] = pd.cut(data1000['Q2'], Q2Bin, labels=map(chr, range(65, 65+len(Q2Bin)-1)))\n",
    "data1000['Q2Bin'] = pd.cut(data1000['Q2'], Q2Bin)\n",
    "\n",
    "print data1000.head()\n"
   ]
  },
  {
   "cell_type": "code",
   "execution_count": 11,
   "metadata": {
    "collapsed": false
   },
   "outputs": [
    {
     "data": {
      "text/plain": [
       "0    (0.055, 0.1]\n",
       "0    (0.055, 0.1]\n",
       "Name: xBin, dtype: category\n",
       "Categories (1, object): [(0.055, 0.1]]"
      ]
     },
     "execution_count": 11,
     "metadata": {},
     "output_type": "execute_result"
    }
   ],
   "source": [
    "data1000['xBin'][0]"
   ]
  },
  {
   "cell_type": "code",
   "execution_count": 16,
   "metadata": {
    "collapsed": false
   },
   "outputs": [
    {
     "ename": "ValueError",
     "evalue": "Shape of passed values is (5, 335), indices imply (5, 336)",
     "output_type": "error",
     "traceback": [
      "\u001b[0;31m---------------------------------------------------------------------------\u001b[0m",
      "\u001b[0;31mValueError\u001b[0m                                Traceback (most recent call last)",
      "\u001b[0;32m<ipython-input-16-a01f475693cd>\u001b[0m in \u001b[0;36m<module>\u001b[0;34m()\u001b[0m\n\u001b[1;32m     38\u001b[0m \u001b[0;31m# Creates a DataFrame with qT2 as x, value as y\u001b[0m\u001b[0;34m\u001b[0m\u001b[0;34m\u001b[0m\u001b[0m\n\u001b[1;32m     39\u001b[0m g = pd.DataFrame({'x': data_binx, 'value': data_binvalue, 'z' : data_binz, 'delta' : data_bindelta, 'qT2' :\n\u001b[0;32m---> 40\u001b[0;31m     data_binqT2},index=ind)\n\u001b[0m\u001b[1;32m     41\u001b[0m \u001b[0mxbin0\u001b[0m \u001b[0;34m=\u001b[0m \u001b[0mxBinned\u001b[0m\u001b[0;34m.\u001b[0m\u001b[0mquery\u001b[0m\u001b[0;34m(\u001b[0m\u001b[0;34m'xBin == 0'\u001b[0m\u001b[0;34m)\u001b[0m\u001b[0;34m\u001b[0m\u001b[0m\n\u001b[1;32m     42\u001b[0m \u001b[0mx0ind\u001b[0m  \u001b[0;34m=\u001b[0m \u001b[0mxbin0\u001b[0m\u001b[0;34m.\u001b[0m\u001b[0mindex\u001b[0m\u001b[0;34m.\u001b[0m\u001b[0mvalues\u001b[0m\u001b[0;34m\u001b[0m\u001b[0m\n",
      "\u001b[0;32m/Users/avp5627/anaconda2/anaconda/lib/python2.7/site-packages/pandas/core/frame.pyc\u001b[0m in \u001b[0;36m__init__\u001b[0;34m(self, data, index, columns, dtype, copy)\u001b[0m\n\u001b[1;32m    222\u001b[0m                                  dtype=dtype, copy=copy)\n\u001b[1;32m    223\u001b[0m         \u001b[0;32melif\u001b[0m \u001b[0misinstance\u001b[0m\u001b[0;34m(\u001b[0m\u001b[0mdata\u001b[0m\u001b[0;34m,\u001b[0m \u001b[0mdict\u001b[0m\u001b[0;34m)\u001b[0m\u001b[0;34m:\u001b[0m\u001b[0;34m\u001b[0m\u001b[0m\n\u001b[0;32m--> 224\u001b[0;31m             \u001b[0mmgr\u001b[0m \u001b[0;34m=\u001b[0m \u001b[0mself\u001b[0m\u001b[0;34m.\u001b[0m\u001b[0m_init_dict\u001b[0m\u001b[0;34m(\u001b[0m\u001b[0mdata\u001b[0m\u001b[0;34m,\u001b[0m \u001b[0mindex\u001b[0m\u001b[0;34m,\u001b[0m \u001b[0mcolumns\u001b[0m\u001b[0;34m,\u001b[0m \u001b[0mdtype\u001b[0m\u001b[0;34m=\u001b[0m\u001b[0mdtype\u001b[0m\u001b[0;34m)\u001b[0m\u001b[0;34m\u001b[0m\u001b[0m\n\u001b[0m\u001b[1;32m    225\u001b[0m         \u001b[0;32melif\u001b[0m \u001b[0misinstance\u001b[0m\u001b[0;34m(\u001b[0m\u001b[0mdata\u001b[0m\u001b[0;34m,\u001b[0m \u001b[0mma\u001b[0m\u001b[0;34m.\u001b[0m\u001b[0mMaskedArray\u001b[0m\u001b[0;34m)\u001b[0m\u001b[0;34m:\u001b[0m\u001b[0;34m\u001b[0m\u001b[0m\n\u001b[1;32m    226\u001b[0m             \u001b[0;32mimport\u001b[0m \u001b[0mnumpy\u001b[0m\u001b[0;34m.\u001b[0m\u001b[0mma\u001b[0m\u001b[0;34m.\u001b[0m\u001b[0mmrecords\u001b[0m \u001b[0;32mas\u001b[0m \u001b[0mmrecords\u001b[0m\u001b[0;34m\u001b[0m\u001b[0m\n",
      "\u001b[0;32m/Users/avp5627/anaconda2/anaconda/lib/python2.7/site-packages/pandas/core/frame.pyc\u001b[0m in \u001b[0;36m_init_dict\u001b[0;34m(self, data, index, columns, dtype)\u001b[0m\n\u001b[1;32m    358\u001b[0m             \u001b[0marrays\u001b[0m \u001b[0;34m=\u001b[0m \u001b[0;34m[\u001b[0m\u001b[0mdata\u001b[0m\u001b[0;34m[\u001b[0m\u001b[0mk\u001b[0m\u001b[0;34m]\u001b[0m \u001b[0;32mfor\u001b[0m \u001b[0mk\u001b[0m \u001b[0;32min\u001b[0m \u001b[0mkeys\u001b[0m\u001b[0;34m]\u001b[0m\u001b[0;34m\u001b[0m\u001b[0m\n\u001b[1;32m    359\u001b[0m \u001b[0;34m\u001b[0m\u001b[0m\n\u001b[0;32m--> 360\u001b[0;31m         \u001b[0;32mreturn\u001b[0m \u001b[0m_arrays_to_mgr\u001b[0m\u001b[0;34m(\u001b[0m\u001b[0marrays\u001b[0m\u001b[0;34m,\u001b[0m \u001b[0mdata_names\u001b[0m\u001b[0;34m,\u001b[0m \u001b[0mindex\u001b[0m\u001b[0;34m,\u001b[0m \u001b[0mcolumns\u001b[0m\u001b[0;34m,\u001b[0m \u001b[0mdtype\u001b[0m\u001b[0;34m=\u001b[0m\u001b[0mdtype\u001b[0m\u001b[0;34m)\u001b[0m\u001b[0;34m\u001b[0m\u001b[0m\n\u001b[0m\u001b[1;32m    361\u001b[0m \u001b[0;34m\u001b[0m\u001b[0m\n\u001b[1;32m    362\u001b[0m     \u001b[0;32mdef\u001b[0m \u001b[0m_init_ndarray\u001b[0m\u001b[0;34m(\u001b[0m\u001b[0mself\u001b[0m\u001b[0;34m,\u001b[0m \u001b[0mvalues\u001b[0m\u001b[0;34m,\u001b[0m \u001b[0mindex\u001b[0m\u001b[0;34m,\u001b[0m \u001b[0mcolumns\u001b[0m\u001b[0;34m,\u001b[0m \u001b[0mdtype\u001b[0m\u001b[0;34m=\u001b[0m\u001b[0mNone\u001b[0m\u001b[0;34m,\u001b[0m \u001b[0mcopy\u001b[0m\u001b[0;34m=\u001b[0m\u001b[0mFalse\u001b[0m\u001b[0;34m)\u001b[0m\u001b[0;34m:\u001b[0m\u001b[0;34m\u001b[0m\u001b[0m\n",
      "\u001b[0;32m/Users/avp5627/anaconda2/anaconda/lib/python2.7/site-packages/pandas/core/frame.pyc\u001b[0m in \u001b[0;36m_arrays_to_mgr\u001b[0;34m(arrays, arr_names, index, columns, dtype)\u001b[0m\n\u001b[1;32m   5239\u001b[0m     \u001b[0maxes\u001b[0m \u001b[0;34m=\u001b[0m \u001b[0;34m[\u001b[0m\u001b[0m_ensure_index\u001b[0m\u001b[0;34m(\u001b[0m\u001b[0mcolumns\u001b[0m\u001b[0;34m)\u001b[0m\u001b[0;34m,\u001b[0m \u001b[0m_ensure_index\u001b[0m\u001b[0;34m(\u001b[0m\u001b[0mindex\u001b[0m\u001b[0;34m)\u001b[0m\u001b[0;34m]\u001b[0m\u001b[0;34m\u001b[0m\u001b[0m\n\u001b[1;32m   5240\u001b[0m \u001b[0;34m\u001b[0m\u001b[0m\n\u001b[0;32m-> 5241\u001b[0;31m     \u001b[0;32mreturn\u001b[0m \u001b[0mcreate_block_manager_from_arrays\u001b[0m\u001b[0;34m(\u001b[0m\u001b[0marrays\u001b[0m\u001b[0;34m,\u001b[0m \u001b[0marr_names\u001b[0m\u001b[0;34m,\u001b[0m \u001b[0maxes\u001b[0m\u001b[0;34m)\u001b[0m\u001b[0;34m\u001b[0m\u001b[0m\n\u001b[0m\u001b[1;32m   5242\u001b[0m \u001b[0;34m\u001b[0m\u001b[0m\n\u001b[1;32m   5243\u001b[0m \u001b[0;34m\u001b[0m\u001b[0m\n",
      "\u001b[0;32m/Users/avp5627/anaconda2/anaconda/lib/python2.7/site-packages/pandas/core/internals.pyc\u001b[0m in \u001b[0;36mcreate_block_manager_from_arrays\u001b[0;34m(arrays, names, axes)\u001b[0m\n\u001b[1;32m   4002\u001b[0m         \u001b[0;32mreturn\u001b[0m \u001b[0mmgr\u001b[0m\u001b[0;34m\u001b[0m\u001b[0m\n\u001b[1;32m   4003\u001b[0m     \u001b[0;32mexcept\u001b[0m \u001b[0mValueError\u001b[0m \u001b[0;32mas\u001b[0m \u001b[0me\u001b[0m\u001b[0;34m:\u001b[0m\u001b[0;34m\u001b[0m\u001b[0m\n\u001b[0;32m-> 4004\u001b[0;31m         \u001b[0mconstruction_error\u001b[0m\u001b[0;34m(\u001b[0m\u001b[0mlen\u001b[0m\u001b[0;34m(\u001b[0m\u001b[0marrays\u001b[0m\u001b[0;34m)\u001b[0m\u001b[0;34m,\u001b[0m \u001b[0marrays\u001b[0m\u001b[0;34m[\u001b[0m\u001b[0;36m0\u001b[0m\u001b[0;34m]\u001b[0m\u001b[0;34m.\u001b[0m\u001b[0mshape\u001b[0m\u001b[0;34m,\u001b[0m \u001b[0maxes\u001b[0m\u001b[0;34m,\u001b[0m \u001b[0me\u001b[0m\u001b[0;34m)\u001b[0m\u001b[0;34m\u001b[0m\u001b[0m\n\u001b[0m\u001b[1;32m   4005\u001b[0m \u001b[0;34m\u001b[0m\u001b[0m\n\u001b[1;32m   4006\u001b[0m \u001b[0;34m\u001b[0m\u001b[0m\n",
      "\u001b[0;32m/Users/avp5627/anaconda2/anaconda/lib/python2.7/site-packages/pandas/core/internals.pyc\u001b[0m in \u001b[0;36mconstruction_error\u001b[0;34m(tot_items, block_shape, axes, e)\u001b[0m\n\u001b[1;32m   3968\u001b[0m         \u001b[0;32mraise\u001b[0m \u001b[0mValueError\u001b[0m\u001b[0;34m(\u001b[0m\u001b[0;34m\"Empty data passed with indices specified.\"\u001b[0m\u001b[0;34m)\u001b[0m\u001b[0;34m\u001b[0m\u001b[0m\n\u001b[1;32m   3969\u001b[0m     raise ValueError(\"Shape of passed values is {0}, indices imply {1}\".format(\n\u001b[0;32m-> 3970\u001b[0;31m         passed, implied))\n\u001b[0m\u001b[1;32m   3971\u001b[0m \u001b[0;34m\u001b[0m\u001b[0m\n\u001b[1;32m   3972\u001b[0m \u001b[0;34m\u001b[0m\u001b[0m\n",
      "\u001b[0;31mValueError\u001b[0m: Shape of passed values is (5, 335), indices imply (5, 336)"
     ]
    }
   ],
   "source": [
    "# creates index values for final plot matrix\n",
    "i = np.arange(81).reshape(9,9)\n",
    "value = data1000whole['value']\n",
    "qT2 = data1000whole['qT2']\n",
    "delta = data1000whole['delta']\n",
    "xClas=range(len(xBin)-1)\n",
    "Q2Clas=range(len(Q2Bin)-1)\n",
    "zClas=range(len(zBin)-1)\n",
    "ind = np.arange(336)\n",
    "\n",
    "data1000whole['xClas'] = pd.cut(data1000whole['x'], xBin, labels=False)\n",
    "data1000whole['xBin'] = pd.cut(data1000whole['x'], xBin,labels = False, retbins=0)\n",
    "xBind = data1000whole['xClas']\n",
    "xBinned = pd.DataFrame({'xBin': data1000whole['xBin']},index = ind)\n",
    "\n",
    "data1000whole['Q2Clas'] = pd.cut(data1000whole['Q2'], Q2Bin, labels=False)\n",
    "data1000whole['Q2Bin'] = pd.cut(data1000whole['Q2'], Q2Bin,labels = False, retbins=0)\n",
    "Q2Bind = data1000whole['Q2Clas']\n",
    "Q2Binned = pd.DataFrame({'Q2Bin' : data1000whole['Q2Bin']}, index = ind)\n",
    "\n",
    "data1000whole['zClas'] = pd.cut(data1000whole['z'], zBin, labels=False)\n",
    "data1000whole['zBin'] = pd.cut(data1000whole['z'], zBin,labels = False, retbins=0)\n",
    "zBind = data1000whole['zBin']\n",
    "zBinned = pd.DataFrame({'zBin' : data1000whole['zBin']}, index = ind)\n",
    "data_binvalue = data1000whole['value'].as_matrix(columns=None)\n",
    "data_binqT2 = data1000whole['qT2'].as_matrix(columns=None)\n",
    "data_bindelta = data1000whole['delta'].as_matrix(columns=None)\n",
    "data_binz = data1000whole['z'].as_matrix(columns=None)\n",
    "data_binx = data1000whole['x'].as_matrix(columns=None)\n",
    "\n",
    "# Creates the index needed to create f and g DataFrames\n",
    "ind = np.arange(336)\n",
    "Gridmap = np.arange(80)\n",
    "\n",
    "X = data1000whole['pT']\n",
    "\n",
    "h = pd.DataFrame({'xBin': xBind, 'Q2Bin': Q2Bind, 'zBin' : zBind},index=ind)\n",
    "# Creates a DataFrame with qT2 as x, value as y\n",
    "g = pd.DataFrame({'x': data_binx, 'value': data_binvalue, 'z' : data_binz, 'delta' : data_bindelta, 'qT2' :\n",
    "    data_binqT2},index=ind)\n",
    "xbin0 = xBinned.query('xBin == 0')\n",
    "x0ind  = xbin0.index.values\n",
    "new_xbin0 = X.iloc[x0ind]\n",
    "xbin1 = xBinned.query('xBin == 1')\n",
    "x1ind  = xbin1.index.values\n",
    "new_xbin1 = X.iloc[x1ind]\n",
    "xbin2 = xBinned.query('xBin == 2')\n",
    "x2ind  = xbin2.index.values\n",
    "new_xbin2 = X.iloc[x2ind]\n",
    "xbin3 = xBinned.query('xBin == 3')\n",
    "x3ind  = xbin3.index.values\n",
    "new_xbin3 = X.iloc[x3ind]\n",
    "xbin4 = xBinned.query('xBin == 4')\n",
    "x4ind  = xbin4.index.values\n",
    "new_xbin4 = X.iloc[x4ind]\n",
    "xbin5 = xBinned.query('xBin == 5')\n",
    "x5ind  = xbin5.index.values\n",
    "new_xbin5 = X.iloc[x5ind]\n",
    "xbin6 = xBinned.query('xBin == 6')\n",
    "x6ind  = xbin6.index.values\n",
    "new_xbin6 = X.iloc[x6ind]\n",
    "xbin7 = xBinned.query('xBin == 7')\n",
    "x7ind  = xbin7.index.values\n",
    "new_xbin7 = X.iloc[x7ind]\n",
    "xbin8 = xBinned.query('xBin == 8')\n",
    "x8ind  = xbin8.index.values\n",
    "new_xbin8 = X.iloc[x8ind]\n",
    "\n",
    "# x axis label is pT for xbin\n",
    "# y axis label is value for Q2 bin\n",
    "\n",
    "xind = {'0':x0ind,'1':x1ind,'2':x2ind,'3':x3ind,'4':x4ind,'5':x5ind,'6':x6ind,'7':x7ind,'8':x8ind}\n",
    "\n",
    "#Here is binned data for pT back in a DataFrame \n",
    "pTdat = pd.DataFrame({'0':new_xbin0,'1':new_xbin1,'2':new_xbin2,'3':new_xbin3,\n",
    "                        '4':new_xbin4,'5':new_xbin5,'6':new_xbin6,'7':new_xbin7,\n",
    "                        '8':new_xbin8},index = ind)\n",
    "    \n",
    "Y = data1000whole['value']    \n",
    "Q2bin0 = Q2Binned.query('Q2Bin == 0')\n",
    "q0ind  = Q2bin0.index.values\n",
    "value0 = Y.iloc[q0ind]\n",
    "Q2bin1 = Q2Binned.query('Q2Bin == 1')\n",
    "q1ind  = Q2bin1.index.values\n",
    "value1 = Y.iloc[q1ind]\n",
    "Q2bin2 = Q2Binned.query('Q2Bin == 2')\n",
    "q2ind  = Q2bin2.index.values\n",
    "value2 = Y.iloc[q2ind]\n",
    "Q2bin3 = Q2Binned.query('Q2Bin == 3')\n",
    "q3ind  = Q2bin3.index.values\n",
    "value3 = Y.iloc[q3ind]\n",
    "Q2bin4 = Q2Binned.query('Q2Bin == 4')\n",
    "q4ind  = Q2bin4.index.values\n",
    "value4 = Y.iloc[q4ind]\n",
    "Q2bin5 = Q2Binned.query('Q2Bin == 5')\n",
    "q5ind  = Q2bin5.index.values\n",
    "value5 = Y.iloc[q5ind]\n",
    "Q2bin6 = Q2Binned.query('Q2Bin == 6')\n",
    "q6ind  = Q2bin6.index.values\n",
    "value6 = Y.iloc[q6ind]\n",
    "Q2bin7 = Q2Binned.query('Q2Bin == 7')\n",
    "q7ind  = Q2bin7.index.values\n",
    "value7 = Y.iloc[q7ind]\n",
    "Q2bin8 = Q2Binned.query('Q2Bin == 8')\n",
    "q8ind  = Q2bin8.index.values\n",
    "value8 = Y.iloc[q8ind]\n",
    "#Here is binned data for value back in a DataFrame \n",
    "valuedat = pd.DataFrame({'0':value0,'1':value1,'2':value2,'3':value3,\n",
    "                        '4':value4,'5':value5,'6':value6,'7':value7,\n",
    "                        '8':value8},index=ind)\n",
    "\n",
    "# I didnt use vdat in the end I used valuedat\n",
    "vdat = {'0':value0,'1':value1,'2':value2,'3':value3,\n",
    "                        '4':value4,'5':value5,'6':value6,'7':value7,\n",
    "                        '8':value8}\n",
    "\n",
    "\n",
    "Z = data1000whole['z']\n",
    "zbin0 = zBinned.query('zBin == 0')\n",
    "z0ind  = zbin0.index.values\n",
    "\n",
    "zbin1 = zBinned.query('zBin == 1')\n",
    "z1ind  = zbin1.index.values\n",
    "\n",
    "zbin2 = zBinned.query('zBin == 2')\n",
    "z2ind  = zbin2.index.values\n",
    "\n",
    "zbin3 = zBinned.query('zBin == 3')\n",
    "z3ind  = zbin3.index.values\n",
    "\n",
    "zbin4 = zBinned.query('zBin == 4')\n",
    "z4ind  = zbin4.index.values\n",
    "\n",
    "zbin5 = zBinned.query('zBin == 5')\n",
    "z5ind  = zbin5.index.values\n",
    "\n",
    "\n",
    "z = {'0':z0ind,'1':z1ind,'2':z2ind,'3':z3ind,'4':z4ind,'5':z5ind}\n",
    "\n",
    "k = 0\n",
    "fig=py.figure(figsize=(15, 15),facecolor=\"white\")\n",
    "for f in pTdat:       \n",
    "    for j in valuedat:\n",
    "        if j == '8':\n",
    "            k = int(f) +1\n",
    "        elif j == '7':\n",
    "            k = 10 + int(f)\n",
    "        elif j == '6':\n",
    "            k = 19 + int(f)\n",
    "        elif j == '5':\n",
    "            k = 28 + int(f)\n",
    "        elif j == '4':\n",
    "            k = 37 + int(f)\n",
    "        elif j == '3':\n",
    "            k = 46 + int(f)\n",
    "        elif j == '2':\n",
    "            k = 55 + int(f)\n",
    "        elif j == '1':\n",
    "            k = 64 + int(f)\n",
    "        elif j == '0':\n",
    "            k = 73 + int(f)\n",
    "        ax = py.subplot(9,9,k)\n",
    "        for i in z:\n",
    "            zindex = z[i]\n",
    "            xdat  = pTdat[f].iloc[zindex]\n",
    "            xdat = xdat.dropna()\n",
    "            ydat = valuedat[j].iloc[zindex]\n",
    "            ydat = ydat.dropna()\n",
    "           \n",
    "            ddat = delta.iloc[zindex]\n",
    "            ddat = ddat.dropna()                                                    \n",
    "            databin = pd.DataFrame({'x':xdat,'y':ydat,'d':ddat})\n",
    "            databin = databin.dropna()\n",
    "            \n",
    "            if databin.empty:\n",
    "                pass\n",
    "            else:\n",
    "                print('xbin = ' + str(f))\n",
    "                print('ybin = ' + str(j))\n",
    "                print('bin'+ str(i), databin)\n",
    "            #if ydat.empty or xdat.empty:\n",
    "            #    pass\n",
    "            # else:\n",
    "            #if len(databin['y']) != len(databin['x']):\n",
    "            #    pass\n",
    "            #else:\n",
    "            ax.errorbar(databin['x'],databin['y'],yerr=databin['d'],capsize=6)\n",
    "            ax.set_yscale(\"log\")\n",
    "                   \n",
    "            ax.grid()\n",
    "                    \n",
    "ax.set_ylabel(r\"$Q^2$ bins\",rotation=\"horizontal\")\n",
    "ax.set_xlabel(r\"$x$ bins\")"
   ]
  },
  {
   "cell_type": "code",
   "execution_count": null,
   "metadata": {
    "collapsed": true
   },
   "outputs": [],
   "source": []
  }
 ],
 "metadata": {
  "anaconda-cloud": {},
  "kernelspec": {
   "display_name": "Python [default]",
   "language": "python",
   "name": "python2"
  },
  "language_info": {
   "codemirror_mode": {
    "name": "ipython",
    "version": 2
   },
   "file_extension": ".py",
   "mimetype": "text/x-python",
   "name": "python",
   "nbconvert_exporter": "python",
   "pygments_lexer": "ipython2",
   "version": "2.7.12"
  }
 },
 "nbformat": 4,
 "nbformat_minor": 2
}
