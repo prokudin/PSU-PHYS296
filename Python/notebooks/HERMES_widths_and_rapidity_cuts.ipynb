{
 "cells": [
  {
   "cell_type": "code",
   "execution_count": 1,
   "metadata": {},
   "outputs": [],
   "source": [
    "from __future__ import division, print_function\n",
    "import fitlab.interface as fitface"
   ]
  },
  {
   "cell_type": "code",
   "execution_count": 2,
   "metadata": {},
   "outputs": [],
   "source": [
    "conf = fitface.gen_config(\"../fitlab/inputs/upol_hermes_noevolution.py\", task=2)"
   ]
  },
  {
   "cell_type": "code",
   "execution_count": 3,
   "metadata": {},
   "outputs": [],
   "source": [
    "filterstr = \"z<0.6 and Q2>1.69 and (pT/z)**2<0.15*Q2 and yp-yh>%.2f\"  # XXX: %.2f\n",
    "cuts = (1.0, 1.5, 2.0, 2.5, 3.0)\n",
    "\n",
    "val_widths = []\n",
    "sea_widths = []"
   ]
  },
  {
   "cell_type": "code",
   "execution_count": 4,
   "metadata": {},
   "outputs": [
    {
     "name": "stdout",
     "output_type": "stream",
     "text": [
      "loading sidis data sets 1007"
     ]
    }
   ],
   "source": [
    "for cut in cuts:\n",
    "    conf[\"datasets\"][\"sidis\"][\"filters\"][0][\"filter\"] = filterstr % cut  # Update filter\n",
    "    \n",
    "    conf = fitface.conf_run(conf)  # Fit\n",
    "    \n",
    "    val_widths.append(conf[\"params\"][\"pdf\"][\"widths0 valence\"][\"value\"])\n",
    "    sea_widths.append(conf[\"params\"][\"pdf\"][\"widths0 sea\"][\"value\"])"
   ]
  },
  {
   "cell_type": "code",
   "execution_count": 5,
   "metadata": {},
   "outputs": [
    {
     "name": "stdout",
     "output_type": "stream",
     "text": [
      "cut,   valence,   sea\n",
      "1.00,  0.282015,  0.470899\n",
      "1.50,  0.281944,  0.471307\n",
      "2.00,  0.277894,  0.478759\n",
      "2.50,  0.273930,  0.492335\n",
      "3.00,  0.277684,  0.395110\n"
     ]
    }
   ],
   "source": [
    "print(\"cut,   valence,   sea\")\n",
    "\n",
    "for cut, val, sea in zip(cuts, val_widths, sea_widths):\n",
    "    print(\"%.2f,  %.6f,  %.6f\" % (cut, val, sea))"
   ]
  },
  {
   "cell_type": "code",
   "execution_count": null,
   "metadata": {
    "collapsed": true
   },
   "outputs": [],
   "source": []
  }
 ],
 "metadata": {
  "kernelspec": {
   "display_name": "Python [conda root]",
   "language": "python",
   "name": "conda-root-py"
  },
  "language_info": {
   "codemirror_mode": {
    "name": "ipython",
    "version": 2
   },
   "file_extension": ".py",
   "mimetype": "text/x-python",
   "name": "python",
   "nbconvert_exporter": "python",
   "pygments_lexer": "ipython2",
   "version": "2.7.13"
  }
 },
 "nbformat": 4,
 "nbformat_minor": 2
}
