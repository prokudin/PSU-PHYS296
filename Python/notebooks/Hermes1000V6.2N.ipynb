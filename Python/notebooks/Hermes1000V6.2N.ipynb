{
 "cells": [
  {
   "cell_type": "markdown",
   "metadata": {},
   "source": [
    "# Hermes Plot\n",
    "## *insert some description of what we are looking at (from poster)*\n",
    "### Penn State Berks PHYS_296 Fall 2017 \n",
    "#### Authors: *Scott Dolan & Zackary Scalyer* \n",
    "#### Advisers: *Dr. Alexey  Prokudin, Dr. Leonard Gamberg, & Dr. Daniel Pitonyak*"
   ]
  },
  {
   "cell_type": "code",
   "execution_count": 2,
   "metadata": {
    "collapsed": true
   },
   "outputs": [],
   "source": [
    "############\n",
    "# imports ##\n",
    "############\n",
    "import pandas as pd\n",
    "import numpy as np\n",
    "from matplotlib import pyplot as py\n",
    "import matplotlib.gridspec as gridspec\n",
    "import matplotlib.patches as mpatches\n",
    "from matplotlib.backends.backend_pdf import PdfPages\n",
    "# enable plots in the notebook\n",
    "%matplotlib inline"
   ]
  },
  {
   "cell_type": "code",
   "execution_count": 3,
   "metadata": {
    "collapsed": true
   },
   "outputs": [],
   "source": [
    "#####################\n",
    "# reading the data ##\n",
    "#####################\n",
    "#dat=pd.read_excel('E:/Laptop/School/Interships/Dr_Prokudin/Juniper82/PHYS296/dat/expdat/1000.xlsx');\n",
    "dat=pd.read_excel('C:/Users/Dolam/Documents/Scott/1000.xlsx');"
   ]
  },
  {
   "cell_type": "code",
   "execution_count": 4,
   "metadata": {
    "collapsed": true
   },
   "outputs": [],
   "source": [
    "######################\n",
    "# Calculated values ##\n",
    "######################\n",
    "dat[\"delta\"] = np.sqrt(dat[\"stat_u\"]**2.0) # measurment error"
   ]
  },
  {
   "cell_type": "code",
   "execution_count": 5,
   "metadata": {
    "collapsed": true
   },
   "outputs": [],
   "source": [
    "##################\n",
    "## Binning data ##\n",
    "##################\n",
    "# data bin edeges\n",
    "\n",
    "xBin=np.array([0.023,0.047,0.075,0.12,0.35,0.6]) # Bins for x used to plot Pt\n",
    "Q2Bin=np.array([1.0,10]) # **NOTE** includes all Q2 data, therefore all value data is plotted vs. Pt\n",
    "zBin= np.array([0.1, 0.2,0.25,0.3, 0.375, 0.475, 0.6, 0.8, 1.1]) # catagories for z to be ploted indiviualy in each subplot\n",
    "\n",
    "# binning data\n",
    "dat['xBin'] = pd.cut(dat['x'], xBin,labels = False, retbins=0)\n",
    "dat['Q2Bin'] = pd.cut(dat['Q2'], Q2Bin,labels = False, retbins=0)\n",
    "dat['zBin'] = pd.cut(dat['z'], zBin,labels = False, retbins=0)\n",
    "\n",
    "# bins for x and y that have non-empty intersection\n",
    "pTdatmod=[0,1,2,3,4] # xBins that overlap Q2Bins\n",
    "valuedatmod=[0] # Q2bins that overlap xBins"
   ]
  },
  {
   "cell_type": "code",
   "execution_count": 6,
   "metadata": {},
   "outputs": [
    {
     "data": {
      "image/png": "[encoded data removed]",
      "text/plain": [
       "<matplotlib.figure.Figure at 0xcdbfc50>"
      ]
     },
     "metadata": {},
     "output_type": "display_data"
    }
   ],
   "source": [
    "###############\n",
    "# HermesPlot ##\n",
    "###############  Reduced matix \n",
    "# initialize the figure\n",
    "fig1=py.figure(figsize=(18, 4),facecolor=\"white\") # figsize; wxh in inche\n",
    "globalGrid=gridspec.GridSpec(1, 1,left=0.03,right=1,top=.91,bottom=.115, wspace=0.0, hspace=0.0) # plot for subplot matrix as 1x1 matrix\n",
    "innerGrid=gridspec.GridSpecFromSubplotSpec(1,5 , subplot_spec=globalGrid[0], wspace=0.0, hspace=0.0) # 5x6 subplot grid \n",
    "\n",
    "# figure properties:\n",
    "ax=fig1.add_axes([0,0,1,1]) # axas for subplot matrix as percent of hole\n",
    "#ax.yaxis.set_ticks([0,1.25,2.76,4.27,5.78,7.29,8.8,10])\n",
    "ax.xaxis.set_ticks([0,1.25,2.8,4.35,5.9,7.45,9,10 ])\n",
    "xticklabels = np.array([0,0.023,0.047,0.075,0.12,0.35,0.6]) \n",
    "\n",
    "ax.set_yticklabels(\"\")\n",
    "ax.set_xticklabels(xticklabels)\n",
    "ax.set_xlabel(r\"$x$ bins\") # xy-lables\n",
    "ax.set_ylabel(r\"$Q^2$\",rotation=\"horizontal\",labelpad = 15)\n",
    "#ax.grid() # grid currently off\n",
    "\n",
    "# subplot axis proerties (unused)\n",
    "Zcolor=['#F74902',\"green\",\"blue\",'orange',\"#7851a9\",\"brown\",'#093162','#4b5320']\n",
    "Zmark=[\"o\",\"o\",\"o\",\"o\"]\n",
    "\n",
    "# Set legend\n",
    "Zpatch1 = mpatches.Patch(color=Zcolor[0], label='0.1<z<0.2')\n",
    "Zpatch2 = mpatches.Patch(color=Zcolor[1], label='0.2<z<0.25')\n",
    "Zpatch3 = mpatches.Patch(color=Zcolor[2], label='0.25<z<0.3')\n",
    "Zpatch4 = mpatches.Patch(color=Zcolor[3], label='0.3<z<0.375')\n",
    "Zpatch5 = mpatches.Patch(color=Zcolor[4], label='0.375<z<0.475')\n",
    "Zpatch6 = mpatches.Patch(color=Zcolor[5], label='0.475<z<0.6')\n",
    "Zpatch7 = mpatches.Patch(color=Zcolor[6], label='0.6<z<0.8')\n",
    "Zpatch8 = mpatches.Patch(color=Zcolor[7], label='0.8<z<1.1')\n",
    "          \n",
    "ax.legend(handles=[Zpatch1,Zpatch2,Zpatch3,Zpatch4,Zpatch5,Zpatch6,Zpatch7,Zpatch8],\n",
    "          loc='upper center',\n",
    "          ncol=8,prop={'size': 9}\n",
    "          )\n",
    "          \n",
    "for f,F in zip(range(len(pTdatmod)),pTdatmod):       \n",
    "    for j,J in zip(range(len(valuedatmod)),valuedatmod):\n",
    "        \n",
    "        k = int(f) # kth possition for subplot on innerGrid matrix\n",
    "        maskX = dat['xBin'].isin([F]) # returns boolean for all Jth xBin in dat  \n",
    "        maskY = dat['Q2Bin'].isin([J]) # returns boolean for all Fth Q2Bin in dat\n",
    "       \n",
    "        ax = fig1.add_subplot(innerGrid[k]) # add subplot in innerGrid\n",
    "        xydat = dat[maskX & maskY] # subset of data for Jth xBin and Fth Q2Bin\n",
    "        for z in range(len(zBin)-1): \n",
    "            maskZ = xydat[\"zBin\"].isin([z])\n",
    "            databin = xydat[maskZ]\n",
    "            \n",
    "            if f != 0:\n",
    "                ax.errorbar(databin['pT'],databin['value'],yerr=databin['delta'],capsize=5,linestyle=\"\",color = Zcolor[z],elinewidth=1.25)\n",
    "                ax.set_xlabel(r\"$p_T$ (GeV)\",labelpad=1)\n",
    "                ax.set_yticklabels('')\n",
    "               \n",
    "            else:\n",
    "                ax.errorbar(databin['pT'],databin['value'],yerr=databin['delta'],capsize=5,linestyle=\"\", color = Zcolor[z],elinewidth=1.25)\n",
    "                \n",
    "                ax.set_xlabel(r\"$p_T$ (GeV)\",labelpad=1)\n",
    "                ax.set_yscale('log')\n",
    "                \n",
    "             \n",
    "                               "
   ]
  },
  {
   "cell_type": "code",
   "execution_count": null,
   "metadata": {
    "collapsed": true
   },
   "outputs": [],
   "source": []
  }
 ],
 "metadata": {
  "kernelspec": {
   "display_name": "Python 2",
   "language": "python",
   "name": "python2"
  },
  "language_info": {
   "codemirror_mode": {
    "name": "ipython",
    "version": 2
   },
   "file_extension": ".py",
   "mimetype": "text/x-python",
   "name": "python",
   "nbconvert_exporter": "python",
   "pygments_lexer": "ipython2",
   "version": "2.7.14"
  }
 },
 "nbformat": 4,
 "nbformat_minor": 2
}
