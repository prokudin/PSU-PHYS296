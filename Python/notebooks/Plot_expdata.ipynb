{
 "cells": [
  {
   "cell_type": "code",
   "execution_count": 7,
   "metadata": {
    "collapsed": true
   },
   "outputs": [],
   "source": [
    "import os\n",
    "from pandas import read_excel as re\n",
    "import matplotlib.pyplot as plt\n",
    "%matplotlib inline"
   ]
  },
  {
   "cell_type": "code",
   "execution_count": 2,
   "metadata": {},
   "outputs": [
    {
     "name": "stdout",
     "output_type": "stream",
     "text": [
      "Moved Working directory back  E:\\Laptop\\School\\Fa_17\\Phys296\\GIT\\PSU-PHYS296\\Python\n",
      "Working directory for data E:\\Laptop\\School\\Fa_17\\Phys296\\GIT\\PSU-PHYS296\\Python\\database\\sidis\\expdata\n",
      "Data files retrieved ['1000.xlsx', '1001.xlsx', '1002.xlsx', '1003.xlsx', '1004.xlsx', '1005.xlsx', '1006.xlsx', '1007.xlsx', '2000.xlsx', '2001.xlsx', '2002.xlsx', '5001.xlsx', '5002.xlsx']\n"
     ]
    }
   ],
   "source": [
    "## Set working directory\n",
    "os.chdir('../') # move dir back one \n",
    "current = os.getcwd() # get current dir\n",
    "print \"Moved Working directory back  %s\" % current # check current dir\n",
    "#new path\n",
    "path = current+'\\\\database\\\\sidis\\\\expdata\\\\'\n",
    "os.chdir(path) # one dir back\n",
    "#Check \n",
    "newDir = os.getcwd() # get current dir\n",
    "print \"Working directory for data %s\" % newDir # check current dir\n",
    "\n",
    "#Grabing list of files\n",
    "data=os.listdir('./') # list all files in dir\n",
    "data=[files for files in data if files.endswith('.xlsx') and not files.startswith('~')] # list of COMPASS data\n",
    "print \"Data files retrieved %s\" % data"
   ]
  },
  {
   "cell_type": "code",
   "execution_count": 8,
   "metadata": {
    "collapsed": true
   },
   "outputs": [],
   "source": [
    "data = re('2001.xlsx')"
   ]
  },
  {
   "cell_type": "code",
   "execution_count": 9,
   "metadata": {
    "collapsed": true
   },
   "outputs": [],
   "source": [
    "delta = (data.stat_u**2.0+data.sys_u**2.0)**(1/2.0)"
   ]
  },
  {
   "cell_type": "code",
   "execution_count": 10,
   "metadata": {},
   "outputs": [
    {
     "data": {
      "text/plain": [
       "<matplotlib.text.Text at 0x8be53c8>"
      ]
     },
     "execution_count": 10,
     "metadata": {},
     "output_type": "execute_result"
    },
    {
     "data": {
      "image/png": "[encoded data removed]",
      "text/plain": [
       "<matplotlib.figure.Figure at 0x8c2bb70>"
      ]
     },
     "metadata": {},
     "output_type": "display_data"
    }
   ],
   "source": [
    "plt.errorbar(data.pT,data.value,delta,\n",
    "             fmt='o',mfc='green',\n",
    "             ecolor='green',capsize=5)\n",
    "plt.title(\"Figure\")\n",
    "plt.xlabel(\"pT\")\n",
    "plt.ylabel(\"ALL\")"
   ]
  },
  {
   "cell_type": "code",
   "execution_count": null,
   "metadata": {
    "collapsed": true
   },
   "outputs": [],
   "source": []
  }
 ],
 "metadata": {
  "kernelspec": {
   "display_name": "Python 2",
   "language": "python",
   "name": "python2"
  },
  "language_info": {
   "codemirror_mode": {
    "name": "ipython",
    "version": 2
   },
   "file_extension": ".py",
   "mimetype": "text/x-python",
   "name": "python",
   "nbconvert_exporter": "python",
   "pygments_lexer": "ipython2",
   "version": "2.7.13"
  }
 },
 "nbformat": 4,
 "nbformat_minor": 2
}
