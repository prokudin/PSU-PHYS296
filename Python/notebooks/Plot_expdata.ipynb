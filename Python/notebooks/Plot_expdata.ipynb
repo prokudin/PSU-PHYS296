{
 "cells": [
  {
   "cell_type": "code",
   "execution_count": 5,
   "metadata": {},
   "outputs": [],
   "source": [
    "import os\n",
    "from pandas import read_excel as read\n",
    "import numpy as np\n",
    "import matplotlib.pyplot as plt\n",
    "%matplotlib inline"
   ]
  },
  {
   "cell_type": "code",
   "execution_count": 2,
   "metadata": {},
   "outputs": [
    {
     "name": "stdout",
     "output_type": "stream",
     "text": [
      "Moved Working directory back  /Users/avp5627/GIT/PSU-PHYS296/Python\n",
      "Working directory for data /Users/avp5627/GIT/PSU-PHYS296/Python/database/sidis/expdata\n",
      "Data files retrieved ['1000.xlsx', '1001.xlsx', '1002.xlsx', '1003.xlsx', '1004.xlsx', '1005.xlsx', '1006.xlsx', '1007.xlsx', '2000.xlsx', '2001.xlsx', '2002.xlsx', '2003.xlsx', '2004.xlsx', '5001.xlsx', '5002.xlsx']\n"
     ]
    }
   ],
   "source": [
    "## Set working directory\n",
    "os.chdir('../') # move dir back one \n",
    "current = os.getcwd() # get current dir\n",
    "print \"Moved Working directory back  %s\" % current # check current dir\n",
    "#new path\n",
    "path = current+'/database/sidis/expdata/'\n",
    "os.chdir(path) # one dir back\n",
    "#Check \n",
    "newDir = os.getcwd() # get current dir\n",
    "print \"Working directory for data %s\" % newDir # check current dir\n",
    "\n",
    "#Grabing list of files\n",
    "data=os.listdir('./') # list all files in dir\n",
    "data=[files for files in data if files.endswith('.xlsx') and not files.startswith('~')] # list of COMPASS data\n",
    "print \"Data files retrieved %s\" % data"
   ]
  },
  {
   "cell_type": "code",
   "execution_count": 4,
   "metadata": {},
   "outputs": [],
   "source": [
    "data = read('2001.xlsx')"
   ]
  },
  {
   "cell_type": "code",
   "execution_count": 6,
   "metadata": {},
   "outputs": [],
   "source": [
    "delta = np.sqrt(data.stat_u**2.0+data.sys_u**2.0)"
   ]
  },
  {
   "cell_type": "code",
   "execution_count": 8,
   "metadata": {},
   "outputs": [
    {
     "data": {
      "text/plain": [
       "Text(0,0.5,'ALL')"
      ]
     },
     "execution_count": 8,
     "metadata": {},
     "output_type": "execute_result"
    },
    {
     "data": {
      "image/png": "[encoded data removed]",
      "text/plain": [
       "<Figure size 432x288 with 1 Axes>"
      ]
     },
     "metadata": {},
     "output_type": "display_data"
    }
   ],
   "source": [
    "plt.errorbar(data.pT,data.value,delta,\n",
    "             fmt='o',mfc='green',\n",
    "             ecolor='green',capsize=5)\n",
    "plt.title(\"Test plot\")\n",
    "plt.xlabel(\"pT\")\n",
    "plt.ylabel(\"ALL\")"
   ]
  },
  {
   "cell_type": "code",
   "execution_count": null,
   "metadata": {
    "collapsed": true
   },
   "outputs": [],
   "source": []
  }
 ],
 "metadata": {
  "kernelspec": {
   "display_name": "Python 2",
   "language": "python",
   "name": "python2"
  },
  "language_info": {
   "codemirror_mode": {
    "name": "ipython",
    "version": 2
   },
   "file_extension": ".py",
   "mimetype": "text/x-python",
   "name": "python",
   "nbconvert_exporter": "python",
   "pygments_lexer": "ipython2",
   "version": "2.7.15"
  }
 },
 "nbformat": 4,
 "nbformat_minor": 2
}
