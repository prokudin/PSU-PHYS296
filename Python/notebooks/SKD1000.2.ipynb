{
 "cells": [
  {
   "cell_type": "code",
   "execution_count": 1,
   "metadata": {
    "collapsed": true
   },
   "outputs": [],
   "source": [
    "import pandas as pd\n",
    "import numpy as np\n",
    "from pandas import read_excel as read\n",
    "from pandas import DataFrame as df\n",
    "import matplotlib.pyplot as plt\n",
    "import matplotlib.gridspec as gridspec\n",
    "import matplotlib.patches as mpatches\n",
    "import string"
   ]
  },
  {
   "cell_type": "code",
   "execution_count": 2,
   "metadata": {
    "collapsed": true
   },
   "outputs": [],
   "source": [
    "dat=pd.read_excel('C:/Users/Dolam/Documents/Scott/1000.xlsx');\n",
    "\n",
    "# Calculate \n",
    "dat[\"delta\"] = np.sqrt(dat[\"stat_u\"]**2.0) #measurment error\n",
    "dat[\"qT\"] = dat[\"pT\"]/dat[\"z\"]\n",
    "dat[\"qT2\"] = dat[\"qT\"]**2\n"
   ]
  },
  {
   "cell_type": "code",
   "execution_count": 3,
   "metadata": {
    "collapsed": true
   },
   "outputs": [],
   "source": [
    "##Binning data Tick marks for overall 9x9 matrix\n",
    "xBin=np.array([0.023,0.04,0.055,0.075,0.1,0.14,0.2,0.3,0.4,0.6]) \n",
    "yBin=np.array([1.0, 1.25, 1.5, 1.75, 2.0, 2.25, 2.5, 3.0, 5.0, 15.0])\n",
    "zBin= np.array([0.1, 0.2, 0.3, 0.4, 0.6, 0.8, 1.1])"
   ]
  },
  {
   "cell_type": "code",
   "execution_count": 4,
   "metadata": {
    "collapsed": true
   },
   "outputs": [],
   "source": [
    "# creates index values for final plot matrix\n",
    "i = np.arange(81).reshape(9,9)\n",
    "ydat = dat['value']\n",
    "xdat = dat['qT2']\n",
    "zdat = dat['delta']"
   ]
  },
  {
   "cell_type": "code",
   "execution_count": 5,
   "metadata": {
    "collapsed": true
   },
   "outputs": [],
   "source": [
    "data_biny = dat['value'].as_matrix(columns=None)\n",
    "data_binx = dat['qT2'].as_matrix(columns=None)\n",
    "data_binz = dat['delta'].as_matrix(columns=None)"
   ]
  },
  {
   "cell_type": "code",
   "execution_count": 6,
   "metadata": {
    "collapsed": true
   },
   "outputs": [],
   "source": [
    "# Creates the index needed to create f and g DataFrames\n",
    "ind = np.arange(336)\n",
    "ind2 = np.arange(9)"
   ]
  },
  {
   "cell_type": "code",
   "execution_count": 7,
   "metadata": {
    "collapsed": true
   },
   "outputs": [],
   "source": [
    "# Creates a DataFrame with qT2 as x, value as y, and delta as z\n",
    "h = pd.DataFrame({'x': data_binx, 'y': data_biny},index=ind)\n",
    "# Creates a DataFrame with qT2 as x, value as y\n",
    "g = pd.DataFrame({'x': data_binx, 'y': data_biny},index=ind)"
   ]
  },
  {
   "cell_type": "code",
   "execution_count": 8,
   "metadata": {},
   "outputs": [
    {
     "name": "stdout",
     "output_type": "stream",
     "text": [
      "               x            y\n",
      "0     (0.4, 0.6]   (3.0, 5.0]\n",
      "7     (0.2, 0.3]  (2.0, 2.25]\n",
      "14   (0.1, 0.14]  (1.0, 1.25]\n",
      "15    (0.4, 0.6]   (2.5, 3.0]\n",
      "22    (0.3, 0.4]  (1.5, 1.75]\n",
      "30    (0.4, 0.6]  (1.0, 1.25]\n",
      "56    (0.4, 0.6]   (3.0, 5.0]\n",
      "63    (0.2, 0.3]  (1.75, 2.0]\n",
      "70   (0.1, 0.14]  (1.25, 1.5]\n",
      "71    (0.4, 0.6]   (2.5, 3.0]\n",
      "78    (0.3, 0.4]  (1.5, 1.75]\n",
      "86    (0.4, 0.6]  (1.0, 1.25]\n",
      "112   (0.4, 0.6]   (3.0, 5.0]\n",
      "119   (0.2, 0.3]  (1.75, 2.0]\n",
      "126  (0.1, 0.14]  (1.0, 1.25]\n",
      "127   (0.4, 0.6]   (2.5, 3.0]\n",
      "134   (0.3, 0.4]  (1.5, 1.75]\n",
      "142   (0.4, 0.6]  (1.0, 1.25]\n",
      "168   (0.4, 0.6]   (3.0, 5.0]\n",
      "175   (0.2, 0.3]  (1.75, 2.0]\n",
      "182  (0.1, 0.14]  (1.25, 1.5]\n",
      "183   (0.4, 0.6]   (2.5, 3.0]\n",
      "190   (0.3, 0.4]  (1.5, 1.75]\n",
      "198   (0.4, 0.6]  (1.0, 1.25]\n",
      "224   (0.4, 0.6]   (3.0, 5.0]\n",
      "231   (0.2, 0.3]  (1.75, 2.0]\n",
      "238  (0.1, 0.14]  (1.25, 1.5]\n",
      "239   (0.4, 0.6]   (2.5, 3.0]\n",
      "246   (0.3, 0.4]  (1.5, 1.75]\n",
      "254   (0.4, 0.6]  (1.0, 1.25]\n",
      "280   (0.4, 0.6]   (3.0, 5.0]\n",
      "287   (0.2, 0.3]  (1.75, 2.0]\n",
      "294  (0.1, 0.14]  (1.25, 1.5]\n",
      "295   (0.4, 0.6]   (2.5, 3.0]\n",
      "302   (0.3, 0.4]  (1.5, 1.75]\n",
      "310   (0.4, 0.6]  (1.25, 1.5]\n",
      "            x         y\n",
      "238  0.134216  1.264970\n",
      "294  0.134867  1.348901\n",
      "14   0.137497  1.235922\n",
      "126  0.137541  1.245694\n",
      "70   0.138819  1.266922\n",
      "182  0.139555  1.251476\n",
      "63   0.200555  1.878313\n",
      "7    0.201676  2.244343\n",
      "287  0.203283  1.840735\n",
      "119  0.205861  1.819139\n",
      "175  0.207069  1.847455\n",
      "231  0.208455  1.867888\n",
      "78   0.367221  1.609826\n",
      "22   0.367789  1.650349\n",
      "302  0.367855  1.662614\n",
      "190  0.369043  1.657596\n",
      "246  0.369905  1.677482\n",
      "134  0.370460  1.673167\n",
      "142  0.510915  1.163802\n",
      "198  0.512338  1.152623\n",
      "86   0.516726  1.142745\n",
      "30   0.517744  1.102652\n",
      "254  0.518977  1.165386\n",
      "112  0.521035  3.922566\n",
      "224  0.525840  3.740973\n",
      "168  0.526434  3.705209\n",
      "0    0.527770  4.398481\n",
      "310  0.528090  1.451229\n",
      "56   0.528475  4.149637\n",
      "127  0.549564  2.529094\n",
      "71   0.549743  2.584207\n",
      "280  0.551479  3.925140\n",
      "239  0.552300  2.541366\n",
      "15   0.553286  2.711537\n",
      "183  0.553742  2.677037\n",
      "295  0.568058  2.791774\n"
     ]
    }
   ],
   "source": [
    "# Same cut applied to  g\n",
    "g['y'] = pd.cut(ydat, yBin, labels=None,retbins=0)\n",
    "g['x'] = pd.cut(xdat, xBin, labels=None,retbins=0)\n",
    "g2 = g.dropna()\n",
    "print(g2)\n",
    "gind = g2.index.values\n",
    "newg = h.iloc[gind]\n",
    "Data4plot = newg.sort_values(by=['x'])\n",
    "print(Data4plot)"
   ]
  },
  {
   "cell_type": "code",
   "execution_count": 9,
   "metadata": {
    "collapsed": true
   },
   "outputs": [],
   "source": [
    "# Time to figure out how to plot this data!"
   ]
  },
  {
   "cell_type": "code",
   "execution_count": null,
   "metadata": {
    "collapsed": true
   },
   "outputs": [],
   "source": []
  }
 ],
 "metadata": {
  "kernelspec": {
   "display_name": "Python 2",
   "language": "python",
   "name": "python2"
  },
  "language_info": {
   "codemirror_mode": {
    "name": "ipython",
    "version": 2
   },
   "file_extension": ".py",
   "mimetype": "text/x-python",
   "name": "python",
   "nbconvert_exporter": "python",
   "pygments_lexer": "ipython2",
   "version": "2.7.14"
  }
 },
 "nbformat": 4,
 "nbformat_minor": 2
}
